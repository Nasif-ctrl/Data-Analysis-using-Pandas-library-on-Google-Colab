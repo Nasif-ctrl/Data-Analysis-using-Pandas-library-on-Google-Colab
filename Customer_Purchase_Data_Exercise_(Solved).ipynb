{
  "cells": [
    {
      "cell_type": "markdown",
      "metadata": {
        "id": "DI6OLM7V4fkZ"
      },
      "source": [
        "# Ecommerce Purchases Exercise Overview\n",
        "\n",
        "Hi Guys,<br>\n",
        "After a crash course on pandas for data analysis, its time to do some practice!!!<br>\n",
        "Because of privacy issues, I have created a fake dataset here with 30K entries. <br>\n",
        "The situation is, customers are providing some personal information while purchasing stuff on-line or in-store. For some reasons, your client wants to know the answer to some of his questions from the dataset, let's try to help him!.<br>\n",
        "\n",
        "*Feel free to consult the solutions if needed. Please note, the tasks given in the exercises, can be solved in different ways. Try your best answer and compare with the solutions.* <br>\n",
        "&#9758; The dataset is provided in the course downloads."
      ]
    },
    {
      "cell_type": "markdown",
      "metadata": {
        "id": "pHSubxh44fke"
      },
      "source": [
        "**1. Import Pandas and Read the csv file.**"
      ]
    },
    {
      "cell_type": "code",
      "execution_count": 1,
      "metadata": {
        "colab": {
          "base_uri": "https://localhost:8080/"
        },
        "id": "vOFwhomn4fkh",
        "outputId": "627ea8ba-1c01-4148-8cba-8f953aea2bed"
      },
      "outputs": [
        {
          "output_type": "stream",
          "name": "stdout",
          "text": [
            "Mounted at /content/drive\n"
          ]
        }
      ],
      "source": [
        "# Importing Drive, OS and Pandas\n",
        "import os\n",
        "import pandas as pd\n",
        "from google.colab import drive\n",
        "drive.mount('/content/drive')\n",
        "\n",
        "# Reading the csv file from Google Drive\n",
        "data_root = ('/content/drive/MyDrive/Colab Notebooks/Project 2')  # This path will need to be modified based on the dataset's location\n",
        "dataset_path = os.path.join(data_root, 'Cust_Purch_FakeData.csv')\n",
        "dfm = pd.read_csv(dataset_path)"
      ]
    },
    {
      "cell_type": "markdown",
      "metadata": {
        "id": "YyFCdwaY4fki"
      },
      "source": [
        "**2. Its good idea to see how the data look like, display first 5 rows of your data-set.**"
      ]
    },
    {
      "cell_type": "code",
      "execution_count": 3,
      "metadata": {
        "colab": {
          "base_uri": "https://localhost:8080/"
        },
        "id": "mjx2uGN54fkj",
        "outputId": "894ff4c5-f3d8-4278-e57b-962f487db19b"
      },
      "outputs": [
        {
          "output_type": "stream",
          "name": "stdout",
          "text": [
            "  prefix    first       last              email  gender  age                       company              profession           phone   postal province             cc_no   cc_exp                    cc_type  price(CAD) fav_color              ip    weekday ampm        date\n",
            "0    Dr.      Ray     Morton    sebvajom@kol.km    Male   38                Medtronic Inc.        Health Therapist  (987) 619-2695  B6V 3W3       MB  5020000000000230  05/2018                       Solo        8.36      Blue    126.23.139.2     Sunday   pm  04/05/1930\n",
            "1   Miss  Claudia  Rodriquez      acu@jatsot.ug  Female   51  Ames Department Stores, Inc.        Health Therapist  (356) 736-7352  G7M 5F3       SK  5020000000000230  07/2028                       Visa       68.31     Black  106.198.76.211    Tuesday   am  12/20/1926\n",
            "2   Miss    Harry      Meyer          zuz@lo.wf  Female   51                     CSX Corp.     Political Scientist  (539) 246-1806  A0Z 6P9       NS  6300000000000000  02/2023                     Switch       34.65     Black  186.150.187.29  Wednesday   pm  08/20/1931\n",
            "3   Miss    Edith    Gilbert  hansohsi@jupec.md  Female   55        Murphy Oil Corporation  Transportation Manager  (984) 962-7494  P9I 9H3       YT  3530000000000000  02/2028                    Maestro       64.59     White   80.140.57.161   Saturday   am  06/18/2001\n",
            "4    Dr.     Lura     Murphy     webediti@je.st  Female   20                  PETsMART Inc            Statistician  (902) 568-9748  S1A 6K0       ON  4030000000000000  10/2025  Diners Club International       20.83    Yellow   211.103.43.41     Friday   pm  06/14/2045\n"
          ]
        }
      ],
      "source": [
        "pd.set_option('display.expand_frame_repr', False)  # Disabling column wrapping for better view\n",
        "print(dfm.iloc[0:5])  # dfm.iloc[] be used to print any number of rows by modifying the range"
      ]
    },
    {
      "cell_type": "code",
      "execution_count": null,
      "metadata": {
        "id": "gozaQHsn4fkk",
        "outputId": "682a5912-c591-4028-c7d7-481dcb679184",
        "collapsed": true
      },
      "outputs": [
        {
          "data": {
            "text/html": [
              "<div>\n",
              "<style>\n",
              "    .dataframe thead tr:only-child th {\n",
              "        text-align: right;\n",
              "    }\n",
              "\n",
              "    .dataframe thead th {\n",
              "        text-align: left;\n",
              "    }\n",
              "\n",
              "    .dataframe tbody tr th {\n",
              "        vertical-align: top;\n",
              "    }\n",
              "</style>\n",
              "<table border=\"1\" class=\"dataframe\">\n",
              "  <thead>\n",
              "    <tr style=\"text-align: right;\">\n",
              "      <th></th>\n",
              "      <th>prefix</th>\n",
              "      <th>first</th>\n",
              "      <th>last</th>\n",
              "      <th>email</th>\n",
              "      <th>gender</th>\n",
              "      <th>age</th>\n",
              "      <th>company</th>\n",
              "      <th>profession</th>\n",
              "      <th>phone</th>\n",
              "      <th>postal</th>\n",
              "      <th>province</th>\n",
              "      <th>cc_no</th>\n",
              "      <th>cc_exp</th>\n",
              "      <th>cc_type</th>\n",
              "      <th>price(CAD)</th>\n",
              "      <th>fav_color</th>\n",
              "      <th>ip</th>\n",
              "      <th>weekday</th>\n",
              "      <th>ampm</th>\n",
              "      <th>date</th>\n",
              "    </tr>\n",
              "  </thead>\n",
              "  <tbody>\n",
              "    <tr>\n",
              "      <th>0</th>\n",
              "      <td>Dr.</td>\n",
              "      <td>Ray</td>\n",
              "      <td>Morton</td>\n",
              "      <td>sebvajom@kol.km</td>\n",
              "      <td>Male</td>\n",
              "      <td>38</td>\n",
              "      <td>Medtronic Inc.</td>\n",
              "      <td>Health Therapist</td>\n",
              "      <td>(987) 619-2695</td>\n",
              "      <td>B6V 3W3</td>\n",
              "      <td>MB</td>\n",
              "      <td>5020000000000230</td>\n",
              "      <td>05/2018</td>\n",
              "      <td>Solo</td>\n",
              "      <td>8.36</td>\n",
              "      <td>Blue</td>\n",
              "      <td>126.23.139.2</td>\n",
              "      <td>Sunday</td>\n",
              "      <td>pm</td>\n",
              "      <td>04/05/1930</td>\n",
              "    </tr>\n",
              "    <tr>\n",
              "      <th>1</th>\n",
              "      <td>Miss</td>\n",
              "      <td>Claudia</td>\n",
              "      <td>Rodriquez</td>\n",
              "      <td>acu@jatsot.ug</td>\n",
              "      <td>Female</td>\n",
              "      <td>51</td>\n",
              "      <td>Ames Department Stores, Inc.</td>\n",
              "      <td>Health Therapist</td>\n",
              "      <td>(356) 736-7352</td>\n",
              "      <td>G7M 5F3</td>\n",
              "      <td>SK</td>\n",
              "      <td>5020000000000230</td>\n",
              "      <td>07/2028</td>\n",
              "      <td>Visa</td>\n",
              "      <td>68.31</td>\n",
              "      <td>Black</td>\n",
              "      <td>106.198.76.211</td>\n",
              "      <td>Tuesday</td>\n",
              "      <td>am</td>\n",
              "      <td>12/20/1926</td>\n",
              "    </tr>\n",
              "    <tr>\n",
              "      <th>2</th>\n",
              "      <td>Miss</td>\n",
              "      <td>Harry</td>\n",
              "      <td>Meyer</td>\n",
              "      <td>zuz@lo.wf</td>\n",
              "      <td>Female</td>\n",
              "      <td>51</td>\n",
              "      <td>CSX Corp.</td>\n",
              "      <td>Political Scientist</td>\n",
              "      <td>(539) 246-1806</td>\n",
              "      <td>A0Z 6P9</td>\n",
              "      <td>NS</td>\n",
              "      <td>6300000000000000</td>\n",
              "      <td>02/2023</td>\n",
              "      <td>Switch</td>\n",
              "      <td>34.65</td>\n",
              "      <td>Black</td>\n",
              "      <td>186.150.187.29</td>\n",
              "      <td>Wednesday</td>\n",
              "      <td>pm</td>\n",
              "      <td>08/20/1931</td>\n",
              "    </tr>\n",
              "    <tr>\n",
              "      <th>3</th>\n",
              "      <td>Miss</td>\n",
              "      <td>Edith</td>\n",
              "      <td>Gilbert</td>\n",
              "      <td>hansohsi@jupec.md</td>\n",
              "      <td>Female</td>\n",
              "      <td>55</td>\n",
              "      <td>Murphy Oil Corporation</td>\n",
              "      <td>Transportation Manager</td>\n",
              "      <td>(984) 962-7494</td>\n",
              "      <td>P9I 9H3</td>\n",
              "      <td>YT</td>\n",
              "      <td>3530000000000000</td>\n",
              "      <td>02/2028</td>\n",
              "      <td>Maestro</td>\n",
              "      <td>64.59</td>\n",
              "      <td>White</td>\n",
              "      <td>80.140.57.161</td>\n",
              "      <td>Saturday</td>\n",
              "      <td>am</td>\n",
              "      <td>06/18/2001</td>\n",
              "    </tr>\n",
              "    <tr>\n",
              "      <th>4</th>\n",
              "      <td>Dr.</td>\n",
              "      <td>Lura</td>\n",
              "      <td>Murphy</td>\n",
              "      <td>webediti@je.st</td>\n",
              "      <td>Female</td>\n",
              "      <td>20</td>\n",
              "      <td>PETsMART Inc</td>\n",
              "      <td>Statistician</td>\n",
              "      <td>(902) 568-9748</td>\n",
              "      <td>S1A 6K0</td>\n",
              "      <td>ON</td>\n",
              "      <td>4030000000000000</td>\n",
              "      <td>10/2025</td>\n",
              "      <td>Diners Club International</td>\n",
              "      <td>20.83</td>\n",
              "      <td>Yellow</td>\n",
              "      <td>211.103.43.41</td>\n",
              "      <td>Friday</td>\n",
              "      <td>pm</td>\n",
              "      <td>06/14/2045</td>\n",
              "    </tr>\n",
              "  </tbody>\n",
              "</table>\n",
              "</div>"
            ],
            "text/plain": [
              "  prefix    first       last              email  gender  age  \\\n",
              "0    Dr.      Ray     Morton    sebvajom@kol.km    Male   38   \n",
              "1   Miss  Claudia  Rodriquez      acu@jatsot.ug  Female   51   \n",
              "2   Miss    Harry      Meyer          zuz@lo.wf  Female   51   \n",
              "3   Miss    Edith    Gilbert  hansohsi@jupec.md  Female   55   \n",
              "4    Dr.     Lura     Murphy     webediti@je.st  Female   20   \n",
              "\n",
              "                        company              profession           phone  \\\n",
              "0                Medtronic Inc.        Health Therapist  (987) 619-2695   \n",
              "1  Ames Department Stores, Inc.        Health Therapist  (356) 736-7352   \n",
              "2                     CSX Corp.     Political Scientist  (539) 246-1806   \n",
              "3        Murphy Oil Corporation  Transportation Manager  (984) 962-7494   \n",
              "4                  PETsMART Inc            Statistician  (902) 568-9748   \n",
              "\n",
              "    postal province             cc_no   cc_exp                    cc_type  \\\n",
              "0  B6V 3W3       MB  5020000000000230  05/2018                       Solo   \n",
              "1  G7M 5F3       SK  5020000000000230  07/2028                       Visa   \n",
              "2  A0Z 6P9       NS  6300000000000000  02/2023                     Switch   \n",
              "3  P9I 9H3       YT  3530000000000000  02/2028                    Maestro   \n",
              "4  S1A 6K0       ON  4030000000000000  10/2025  Diners Club International   \n",
              "\n",
              "   price(CAD) fav_color              ip    weekday ampm        date  \n",
              "0        8.36      Blue    126.23.139.2     Sunday   pm  04/05/1930  \n",
              "1       68.31     Black  106.198.76.211    Tuesday   am  12/20/1926  \n",
              "2       34.65     Black  186.150.187.29  Wednesday   pm  08/20/1931  \n",
              "3       64.59     White   80.140.57.161   Saturday   am  06/18/2001  \n",
              "4       20.83    Yellow   211.103.43.41     Friday   pm  06/14/2045  "
            ]
          },
          "execution_count": 3,
          "metadata": {},
          "output_type": "execute_result"
        }
      ],
      "source": []
    },
    {
      "cell_type": "markdown",
      "metadata": {
        "id": "NIkC_O8J4fkl"
      },
      "source": [
        "**3. How many entries your data have?\n",
        "Can you tell the no. of columns in your data?**"
      ]
    },
    {
      "cell_type": "code",
      "execution_count": 4,
      "metadata": {
        "colab": {
          "base_uri": "https://localhost:8080/"
        },
        "id": "PcKjqMLr4fkm",
        "outputId": "f2c11c46-2ee9-480d-bb22-df06981796bc"
      },
      "outputs": [
        {
          "output_type": "stream",
          "name": "stdout",
          "text": [
            "Number of entries: 30000\n",
            "Number of columns: 20\n"
          ]
        }
      ],
      "source": [
        "# Printing only the number of entries and columns\n",
        "print(\"Number of entries:\", dfm.shape[0])\n",
        "print(\"Number of columns:\", dfm.shape[1])"
      ]
    },
    {
      "cell_type": "code",
      "source": [
        "# Printing number of entries and columns along with descriptions\n",
        "dfm.info()"
      ],
      "metadata": {
        "colab": {
          "base_uri": "https://localhost:8080/"
        },
        "id": "pJZbScfkKjah",
        "outputId": "d849b79e-6d7f-49a0-fb67-da089da01193"
      },
      "execution_count": 5,
      "outputs": [
        {
          "output_type": "stream",
          "name": "stdout",
          "text": [
            "<class 'pandas.core.frame.DataFrame'>\n",
            "RangeIndex: 30000 entries, 0 to 29999\n",
            "Data columns (total 20 columns):\n",
            " #   Column      Non-Null Count  Dtype  \n",
            "---  ------      --------------  -----  \n",
            " 0   prefix      30000 non-null  object \n",
            " 1   first       30000 non-null  object \n",
            " 2   last        30000 non-null  object \n",
            " 3   email       30000 non-null  object \n",
            " 4   gender      30000 non-null  object \n",
            " 5   age         30000 non-null  int64  \n",
            " 6   company     30000 non-null  object \n",
            " 7   profession  30000 non-null  object \n",
            " 8   phone       30000 non-null  object \n",
            " 9   postal      30000 non-null  object \n",
            " 10  province    30000 non-null  object \n",
            " 11  cc_no       30000 non-null  int64  \n",
            " 12  cc_exp      30000 non-null  object \n",
            " 13  cc_type     30000 non-null  object \n",
            " 14  price(CAD)  30000 non-null  float64\n",
            " 15  fav_color   30000 non-null  object \n",
            " 16  ip          30000 non-null  object \n",
            " 17  weekday     30000 non-null  object \n",
            " 18  ampm        30000 non-null  object \n",
            " 19  date        30000 non-null  object \n",
            "dtypes: float64(1), int64(2), object(17)\n",
            "memory usage: 4.6+ MB\n"
          ]
        }
      ]
    },
    {
      "cell_type": "code",
      "execution_count": null,
      "metadata": {
        "id": "7zorClhZ4fkn",
        "outputId": "40aef9a4-508d-4b93-af1d-6f9a936026e1",
        "collapsed": true
      },
      "outputs": [
        {
          "name": "stdout",
          "output_type": "stream",
          "text": [
            "<class 'pandas.core.frame.DataFrame'>\n",
            "RangeIndex: 30000 entries, 0 to 29999\n",
            "Data columns (total 20 columns):\n",
            "prefix        30000 non-null object\n",
            "first         30000 non-null object\n",
            "last          30000 non-null object\n",
            "email         30000 non-null object\n",
            "gender        30000 non-null object\n",
            "age           30000 non-null int64\n",
            "company       30000 non-null object\n",
            "profession    30000 non-null object\n",
            "phone         30000 non-null object\n",
            "postal        30000 non-null object\n",
            "province      30000 non-null object\n",
            "cc_no         30000 non-null int64\n",
            "cc_exp        30000 non-null object\n",
            "cc_type       30000 non-null object\n",
            "price(CAD)    30000 non-null float64\n",
            "fav_color     30000 non-null object\n",
            "ip            30000 non-null object\n",
            "weekday       30000 non-null object\n",
            "ampm          30000 non-null object\n",
            "date          30000 non-null object\n",
            "dtypes: float64(1), int64(2), object(17)\n",
            "memory usage: 4.6+ MB\n"
          ]
        }
      ],
      "source": []
    },
    {
      "cell_type": "markdown",
      "metadata": {
        "id": "DHklabVQ4fko"
      },
      "source": [
        "**4. What are the max and min ages of your customer? Can you find mean of your customer?**"
      ]
    },
    {
      "cell_type": "code",
      "execution_count": 6,
      "metadata": {
        "colab": {
          "base_uri": "https://localhost:8080/"
        },
        "id": "9RebVPtr4fkp",
        "outputId": "8fdf0c5a-ab75-4711-ba76-d76f714f8c5f"
      },
      "outputs": [
        {
          "output_type": "stream",
          "name": "stdout",
          "text": [
            "Maximum age of the customers is 65\n",
            "Minimum age of the customers is 18\n",
            "Average age of the customers is 41.550066666666666\n"
          ]
        }
      ],
      "source": [
        "print(\"Maximum age of the customers is\", dfm.age.max())\n",
        "print(\"Minimum age of the customers is\", dfm.age.min())\n",
        "print(\"Average age of the customers is\", dfm.age.mean())"
      ]
    },
    {
      "cell_type": "code",
      "execution_count": null,
      "metadata": {
        "id": "Ugahkzs34fkp",
        "outputId": "e95a3f77-e9ce-4dab-a393-ec5e030aa262",
        "collapsed": true
      },
      "outputs": [
        {
          "name": "stdout",
          "output_type": "stream",
          "text": [
            "Max. age of the customer is:  65\n",
            "Max. age of the customer is:  18\n",
            "Avg. age of the customer is:  41.550066666666666\n"
          ]
        }
      ],
      "source": []
    },
    {
      "cell_type": "markdown",
      "metadata": {
        "id": "HK3IHBpx4fkp"
      },
      "source": [
        "**5. What are the three most common customer's names?**<br>\n",
        "&#9989; [<code>**value_counts()**</code>](http://pandas.pydata.org/pandas-docs/stable/generated/pandas.Series.value_counts.html) returns object containing counts of unique values. The resulting object will be in descending order so that the first element is the most frequently-occurring element. Excludes NA values by default."
      ]
    },
    {
      "cell_type": "code",
      "execution_count": null,
      "metadata": {
        "colab": {
          "base_uri": "https://localhost:8080/",
          "height": 241
        },
        "id": "Edumj3B04fkq",
        "outputId": "2492ab0c-33e8-4dc3-f125-e1e1613dec3f"
      },
      "outputs": [
        {
          "output_type": "execute_result",
          "data": {
            "text/plain": [
              "0           Ray Morton\n",
              "1    Claudia Rodriquez\n",
              "2          Harry Meyer\n",
              "3        Edith Gilbert\n",
              "4          Lura Murphy\n",
              "Name: Name, dtype: object"
            ],
            "text/html": [
              "<div>\n",
              "<style scoped>\n",
              "    .dataframe tbody tr th:only-of-type {\n",
              "        vertical-align: middle;\n",
              "    }\n",
              "\n",
              "    .dataframe tbody tr th {\n",
              "        vertical-align: top;\n",
              "    }\n",
              "\n",
              "    .dataframe thead th {\n",
              "        text-align: right;\n",
              "    }\n",
              "</style>\n",
              "<table border=\"1\" class=\"dataframe\">\n",
              "  <thead>\n",
              "    <tr style=\"text-align: right;\">\n",
              "      <th></th>\n",
              "      <th>Name</th>\n",
              "    </tr>\n",
              "  </thead>\n",
              "  <tbody>\n",
              "    <tr>\n",
              "      <th>0</th>\n",
              "      <td>Ray Morton</td>\n",
              "    </tr>\n",
              "    <tr>\n",
              "      <th>1</th>\n",
              "      <td>Claudia Rodriquez</td>\n",
              "    </tr>\n",
              "    <tr>\n",
              "      <th>2</th>\n",
              "      <td>Harry Meyer</td>\n",
              "    </tr>\n",
              "    <tr>\n",
              "      <th>3</th>\n",
              "      <td>Edith Gilbert</td>\n",
              "    </tr>\n",
              "    <tr>\n",
              "      <th>4</th>\n",
              "      <td>Lura Murphy</td>\n",
              "    </tr>\n",
              "  </tbody>\n",
              "</table>\n",
              "</div><br><label><b>dtype:</b> object</label>"
            ]
          },
          "metadata": {},
          "execution_count": 26
        }
      ],
      "source": [
        "# Combining First name and Last name from dfm in a single column\n",
        "dfm[\"Name\"] = dfm[\"first\"] + \" \" + dfm[\"last\"]\n",
        "\n",
        "# Checking if combining was successful\n",
        "dfm[\"Name\"].head()"
      ]
    },
    {
      "cell_type": "code",
      "source": [
        "# Printing 3 most common FULL NAMES\n",
        "print(dfm[\"Name\"].value_counts().head(3))"
      ],
      "metadata": {
        "colab": {
          "base_uri": "https://localhost:8080/"
        },
        "id": "Kjzya8C5PC-8",
        "outputId": "ede778b7-1e55-49f6-d6e4-fa13d7d597cc"
      },
      "execution_count": null,
      "outputs": [
        {
          "output_type": "stream",
          "name": "stdout",
          "text": [
            "Name\n",
            "Henrietta Luna    4\n",
            "Leona Ruiz        3\n",
            "Katie McKinney    3\n",
            "Name: count, dtype: int64\n"
          ]
        }
      ]
    },
    {
      "cell_type": "code",
      "source": [
        "# Printing 3 most common FIRST NAMES\n",
        "print(dfm[\"first\"].value_counts().head(3))"
      ],
      "metadata": {
        "colab": {
          "base_uri": "https://localhost:8080/"
        },
        "id": "zMck8E1ePZPt",
        "outputId": "dcabe86b-1429-4d1d-dc0c-7570f153c9c0"
      },
      "execution_count": null,
      "outputs": [
        {
          "output_type": "stream",
          "name": "stdout",
          "text": [
            "first\n",
            "Willie     130\n",
            "Francis    124\n",
            "Eula        86\n",
            "Name: count, dtype: int64\n"
          ]
        }
      ]
    },
    {
      "cell_type": "code",
      "execution_count": null,
      "metadata": {
        "id": "kI8z-Dg64fkq",
        "outputId": "5ccb74ce-6dfd-4632-873e-180d2f777625",
        "collapsed": true
      },
      "outputs": [
        {
          "data": {
            "text/plain": [
              "Willie     130\n",
              "Francis    124\n",
              "Eula        86\n",
              "Name: first, dtype: int64"
            ]
          },
          "execution_count": 6,
          "metadata": {},
          "output_type": "execute_result"
        }
      ],
      "source": []
    },
    {
      "cell_type": "markdown",
      "metadata": {
        "id": "8KSUZoJ44fkr"
      },
      "source": [
        "**6. Two customers have the same phone number, can you find those customers**?"
      ]
    },
    {
      "cell_type": "code",
      "execution_count": null,
      "metadata": {
        "colab": {
          "base_uri": "https://localhost:8080/",
          "height": 178
        },
        "id": "5BbVsuag4fks",
        "outputId": "c04dc6e1-b51d-4b5a-ff6b-4d9b35b052c9"
      },
      "outputs": [
        {
          "output_type": "execute_result",
          "data": {
            "text/plain": [
              "phone\n",
              "(263) 382-8004    2\n",
              "(712) 247-7037    1\n",
              "Name: count, dtype: int64"
            ],
            "text/html": [
              "<div>\n",
              "<style scoped>\n",
              "    .dataframe tbody tr th:only-of-type {\n",
              "        vertical-align: middle;\n",
              "    }\n",
              "\n",
              "    .dataframe tbody tr th {\n",
              "        vertical-align: top;\n",
              "    }\n",
              "\n",
              "    .dataframe thead th {\n",
              "        text-align: right;\n",
              "    }\n",
              "</style>\n",
              "<table border=\"1\" class=\"dataframe\">\n",
              "  <thead>\n",
              "    <tr style=\"text-align: right;\">\n",
              "      <th></th>\n",
              "      <th>count</th>\n",
              "    </tr>\n",
              "    <tr>\n",
              "      <th>phone</th>\n",
              "      <th></th>\n",
              "    </tr>\n",
              "  </thead>\n",
              "  <tbody>\n",
              "    <tr>\n",
              "      <th>(263) 382-8004</th>\n",
              "      <td>2</td>\n",
              "    </tr>\n",
              "    <tr>\n",
              "      <th>(712) 247-7037</th>\n",
              "      <td>1</td>\n",
              "    </tr>\n",
              "  </tbody>\n",
              "</table>\n",
              "</div><br><label><b>dtype:</b> int64</label>"
            ]
          },
          "metadata": {},
          "execution_count": 30
        }
      ],
      "source": [
        "# Identifying the common phone number\n",
        "dfm[\"phone\"].value_counts().head(2)   # Printing top 2 numbers to check if there is only 1 unique number or not"
      ]
    },
    {
      "cell_type": "code",
      "execution_count": null,
      "metadata": {
        "scrolled": true,
        "id": "O5D5Pxec4fks",
        "outputId": "eb3ddbf3-eec3-4da2-a45f-298665789a23",
        "collapsed": true
      },
      "outputs": [
        {
          "data": {
            "text/plain": [
              "(263) 382-8004    2\n",
              "(668) 836-2738    1\n",
              "Name: phone, dtype: int64"
            ]
          },
          "execution_count": 7,
          "metadata": {},
          "output_type": "execute_result"
        }
      ],
      "source": [
        "# lets find what phone number is twice!\n"
      ]
    },
    {
      "cell_type": "code",
      "execution_count": null,
      "metadata": {
        "colab": {
          "base_uri": "https://localhost:8080/",
          "height": 202
        },
        "id": "OC7lNXvN4fks",
        "outputId": "8de29d9c-5d32-43bd-b60a-7acef2d92a53"
      },
      "outputs": [
        {
          "output_type": "execute_result",
          "data": {
            "text/plain": [
              "   prefix  first   last                email  gender  age            company           profession           phone   postal province             cc_no   cc_exp                    cc_type  price(CAD) fav_color              ip   weekday ampm        date         Name\n",
              "15   Mrs.  Lilly  Tyler      kofadu@itohi.tf  Female   38          CSX Corp.  Structural Engineer  (263) 382-8004  V7K 1E3       ON    30000000000000  11/2022  Diners Club Carte Blanche        9.61    Yellow   74.124.37.227  Saturday   am  03/30/1985  Lilly Tyler\n",
              "16   Mrs.  Peter   Cain  megkosig@anazeor.gn    Male   27  Campbell Soup Co.   Insurance Adjuster  (263) 382-8004  E8T 2B4       YT  3530000000000000  03/2024                       Solo       13.74     Black  25.207.141.135   Tuesday   am  08/05/1950   Peter Cain"
            ],
            "text/html": [
              "\n",
              "  <div id=\"df-39042df5-3f92-4d34-a00e-e48ce72d2fa5\" class=\"colab-df-container\">\n",
              "    <div>\n",
              "<style scoped>\n",
              "    .dataframe tbody tr th:only-of-type {\n",
              "        vertical-align: middle;\n",
              "    }\n",
              "\n",
              "    .dataframe tbody tr th {\n",
              "        vertical-align: top;\n",
              "    }\n",
              "\n",
              "    .dataframe thead th {\n",
              "        text-align: right;\n",
              "    }\n",
              "</style>\n",
              "<table border=\"1\" class=\"dataframe\">\n",
              "  <thead>\n",
              "    <tr style=\"text-align: right;\">\n",
              "      <th></th>\n",
              "      <th>prefix</th>\n",
              "      <th>first</th>\n",
              "      <th>last</th>\n",
              "      <th>email</th>\n",
              "      <th>gender</th>\n",
              "      <th>age</th>\n",
              "      <th>company</th>\n",
              "      <th>profession</th>\n",
              "      <th>phone</th>\n",
              "      <th>postal</th>\n",
              "      <th>province</th>\n",
              "      <th>cc_no</th>\n",
              "      <th>cc_exp</th>\n",
              "      <th>cc_type</th>\n",
              "      <th>price(CAD)</th>\n",
              "      <th>fav_color</th>\n",
              "      <th>ip</th>\n",
              "      <th>weekday</th>\n",
              "      <th>ampm</th>\n",
              "      <th>date</th>\n",
              "      <th>Name</th>\n",
              "    </tr>\n",
              "  </thead>\n",
              "  <tbody>\n",
              "    <tr>\n",
              "      <th>15</th>\n",
              "      <td>Mrs.</td>\n",
              "      <td>Lilly</td>\n",
              "      <td>Tyler</td>\n",
              "      <td>kofadu@itohi.tf</td>\n",
              "      <td>Female</td>\n",
              "      <td>38</td>\n",
              "      <td>CSX Corp.</td>\n",
              "      <td>Structural Engineer</td>\n",
              "      <td>(263) 382-8004</td>\n",
              "      <td>V7K 1E3</td>\n",
              "      <td>ON</td>\n",
              "      <td>30000000000000</td>\n",
              "      <td>11/2022</td>\n",
              "      <td>Diners Club Carte Blanche</td>\n",
              "      <td>9.61</td>\n",
              "      <td>Yellow</td>\n",
              "      <td>74.124.37.227</td>\n",
              "      <td>Saturday</td>\n",
              "      <td>am</td>\n",
              "      <td>03/30/1985</td>\n",
              "      <td>Lilly Tyler</td>\n",
              "    </tr>\n",
              "    <tr>\n",
              "      <th>16</th>\n",
              "      <td>Mrs.</td>\n",
              "      <td>Peter</td>\n",
              "      <td>Cain</td>\n",
              "      <td>megkosig@anazeor.gn</td>\n",
              "      <td>Male</td>\n",
              "      <td>27</td>\n",
              "      <td>Campbell Soup Co.</td>\n",
              "      <td>Insurance Adjuster</td>\n",
              "      <td>(263) 382-8004</td>\n",
              "      <td>E8T 2B4</td>\n",
              "      <td>YT</td>\n",
              "      <td>3530000000000000</td>\n",
              "      <td>03/2024</td>\n",
              "      <td>Solo</td>\n",
              "      <td>13.74</td>\n",
              "      <td>Black</td>\n",
              "      <td>25.207.141.135</td>\n",
              "      <td>Tuesday</td>\n",
              "      <td>am</td>\n",
              "      <td>08/05/1950</td>\n",
              "      <td>Peter Cain</td>\n",
              "    </tr>\n",
              "  </tbody>\n",
              "</table>\n",
              "</div>\n",
              "    <div class=\"colab-df-buttons\">\n",
              "\n",
              "  <div class=\"colab-df-container\">\n",
              "    <button class=\"colab-df-convert\" onclick=\"convertToInteractive('df-39042df5-3f92-4d34-a00e-e48ce72d2fa5')\"\n",
              "            title=\"Convert this dataframe to an interactive table.\"\n",
              "            style=\"display:none;\">\n",
              "\n",
              "  <svg xmlns=\"http://www.w3.org/2000/svg\" height=\"24px\" viewBox=\"0 -960 960 960\">\n",
              "    <path d=\"M120-120v-720h720v720H120Zm60-500h600v-160H180v160Zm220 220h160v-160H400v160Zm0 220h160v-160H400v160ZM180-400h160v-160H180v160Zm440 0h160v-160H620v160ZM180-180h160v-160H180v160Zm440 0h160v-160H620v160Z\"/>\n",
              "  </svg>\n",
              "    </button>\n",
              "\n",
              "  <style>\n",
              "    .colab-df-container {\n",
              "      display:flex;\n",
              "      gap: 12px;\n",
              "    }\n",
              "\n",
              "    .colab-df-convert {\n",
              "      background-color: #E8F0FE;\n",
              "      border: none;\n",
              "      border-radius: 50%;\n",
              "      cursor: pointer;\n",
              "      display: none;\n",
              "      fill: #1967D2;\n",
              "      height: 32px;\n",
              "      padding: 0 0 0 0;\n",
              "      width: 32px;\n",
              "    }\n",
              "\n",
              "    .colab-df-convert:hover {\n",
              "      background-color: #E2EBFA;\n",
              "      box-shadow: 0px 1px 2px rgba(60, 64, 67, 0.3), 0px 1px 3px 1px rgba(60, 64, 67, 0.15);\n",
              "      fill: #174EA6;\n",
              "    }\n",
              "\n",
              "    .colab-df-buttons div {\n",
              "      margin-bottom: 4px;\n",
              "    }\n",
              "\n",
              "    [theme=dark] .colab-df-convert {\n",
              "      background-color: #3B4455;\n",
              "      fill: #D2E3FC;\n",
              "    }\n",
              "\n",
              "    [theme=dark] .colab-df-convert:hover {\n",
              "      background-color: #434B5C;\n",
              "      box-shadow: 0px 1px 3px 1px rgba(0, 0, 0, 0.15);\n",
              "      filter: drop-shadow(0px 1px 2px rgba(0, 0, 0, 0.3));\n",
              "      fill: #FFFFFF;\n",
              "    }\n",
              "  </style>\n",
              "\n",
              "    <script>\n",
              "      const buttonEl =\n",
              "        document.querySelector('#df-39042df5-3f92-4d34-a00e-e48ce72d2fa5 button.colab-df-convert');\n",
              "      buttonEl.style.display =\n",
              "        google.colab.kernel.accessAllowed ? 'block' : 'none';\n",
              "\n",
              "      async function convertToInteractive(key) {\n",
              "        const element = document.querySelector('#df-39042df5-3f92-4d34-a00e-e48ce72d2fa5');\n",
              "        const dataTable =\n",
              "          await google.colab.kernel.invokeFunction('convertToInteractive',\n",
              "                                                    [key], {});\n",
              "        if (!dataTable) return;\n",
              "\n",
              "        const docLinkHtml = 'Like what you see? Visit the ' +\n",
              "          '<a target=\"_blank\" href=https://colab.research.google.com/notebooks/data_table.ipynb>data table notebook</a>'\n",
              "          + ' to learn more about interactive tables.';\n",
              "        element.innerHTML = '';\n",
              "        dataTable['output_type'] = 'display_data';\n",
              "        await google.colab.output.renderOutput(dataTable, element);\n",
              "        const docLink = document.createElement('div');\n",
              "        docLink.innerHTML = docLinkHtml;\n",
              "        element.appendChild(docLink);\n",
              "      }\n",
              "    </script>\n",
              "  </div>\n",
              "\n",
              "\n",
              "<div id=\"df-d9ec57b9-6fff-4348-8702-84728e75fd0d\">\n",
              "  <button class=\"colab-df-quickchart\" onclick=\"quickchart('df-d9ec57b9-6fff-4348-8702-84728e75fd0d')\"\n",
              "            title=\"Suggest charts\"\n",
              "            style=\"display:none;\">\n",
              "\n",
              "<svg xmlns=\"http://www.w3.org/2000/svg\" height=\"24px\"viewBox=\"0 0 24 24\"\n",
              "     width=\"24px\">\n",
              "    <g>\n",
              "        <path d=\"M19 3H5c-1.1 0-2 .9-2 2v14c0 1.1.9 2 2 2h14c1.1 0 2-.9 2-2V5c0-1.1-.9-2-2-2zM9 17H7v-7h2v7zm4 0h-2V7h2v10zm4 0h-2v-4h2v4z\"/>\n",
              "    </g>\n",
              "</svg>\n",
              "  </button>\n",
              "\n",
              "<style>\n",
              "  .colab-df-quickchart {\n",
              "      --bg-color: #E8F0FE;\n",
              "      --fill-color: #1967D2;\n",
              "      --hover-bg-color: #E2EBFA;\n",
              "      --hover-fill-color: #174EA6;\n",
              "      --disabled-fill-color: #AAA;\n",
              "      --disabled-bg-color: #DDD;\n",
              "  }\n",
              "\n",
              "  [theme=dark] .colab-df-quickchart {\n",
              "      --bg-color: #3B4455;\n",
              "      --fill-color: #D2E3FC;\n",
              "      --hover-bg-color: #434B5C;\n",
              "      --hover-fill-color: #FFFFFF;\n",
              "      --disabled-bg-color: #3B4455;\n",
              "      --disabled-fill-color: #666;\n",
              "  }\n",
              "\n",
              "  .colab-df-quickchart {\n",
              "    background-color: var(--bg-color);\n",
              "    border: none;\n",
              "    border-radius: 50%;\n",
              "    cursor: pointer;\n",
              "    display: none;\n",
              "    fill: var(--fill-color);\n",
              "    height: 32px;\n",
              "    padding: 0;\n",
              "    width: 32px;\n",
              "  }\n",
              "\n",
              "  .colab-df-quickchart:hover {\n",
              "    background-color: var(--hover-bg-color);\n",
              "    box-shadow: 0 1px 2px rgba(60, 64, 67, 0.3), 0 1px 3px 1px rgba(60, 64, 67, 0.15);\n",
              "    fill: var(--button-hover-fill-color);\n",
              "  }\n",
              "\n",
              "  .colab-df-quickchart-complete:disabled,\n",
              "  .colab-df-quickchart-complete:disabled:hover {\n",
              "    background-color: var(--disabled-bg-color);\n",
              "    fill: var(--disabled-fill-color);\n",
              "    box-shadow: none;\n",
              "  }\n",
              "\n",
              "  .colab-df-spinner {\n",
              "    border: 2px solid var(--fill-color);\n",
              "    border-color: transparent;\n",
              "    border-bottom-color: var(--fill-color);\n",
              "    animation:\n",
              "      spin 1s steps(1) infinite;\n",
              "  }\n",
              "\n",
              "  @keyframes spin {\n",
              "    0% {\n",
              "      border-color: transparent;\n",
              "      border-bottom-color: var(--fill-color);\n",
              "      border-left-color: var(--fill-color);\n",
              "    }\n",
              "    20% {\n",
              "      border-color: transparent;\n",
              "      border-left-color: var(--fill-color);\n",
              "      border-top-color: var(--fill-color);\n",
              "    }\n",
              "    30% {\n",
              "      border-color: transparent;\n",
              "      border-left-color: var(--fill-color);\n",
              "      border-top-color: var(--fill-color);\n",
              "      border-right-color: var(--fill-color);\n",
              "    }\n",
              "    40% {\n",
              "      border-color: transparent;\n",
              "      border-right-color: var(--fill-color);\n",
              "      border-top-color: var(--fill-color);\n",
              "    }\n",
              "    60% {\n",
              "      border-color: transparent;\n",
              "      border-right-color: var(--fill-color);\n",
              "    }\n",
              "    80% {\n",
              "      border-color: transparent;\n",
              "      border-right-color: var(--fill-color);\n",
              "      border-bottom-color: var(--fill-color);\n",
              "    }\n",
              "    90% {\n",
              "      border-color: transparent;\n",
              "      border-bottom-color: var(--fill-color);\n",
              "    }\n",
              "  }\n",
              "</style>\n",
              "\n",
              "  <script>\n",
              "    async function quickchart(key) {\n",
              "      const quickchartButtonEl =\n",
              "        document.querySelector('#' + key + ' button');\n",
              "      quickchartButtonEl.disabled = true;  // To prevent multiple clicks.\n",
              "      quickchartButtonEl.classList.add('colab-df-spinner');\n",
              "      try {\n",
              "        const charts = await google.colab.kernel.invokeFunction(\n",
              "            'suggestCharts', [key], {});\n",
              "      } catch (error) {\n",
              "        console.error('Error during call to suggestCharts:', error);\n",
              "      }\n",
              "      quickchartButtonEl.classList.remove('colab-df-spinner');\n",
              "      quickchartButtonEl.classList.add('colab-df-quickchart-complete');\n",
              "    }\n",
              "    (() => {\n",
              "      let quickchartButtonEl =\n",
              "        document.querySelector('#df-d9ec57b9-6fff-4348-8702-84728e75fd0d button');\n",
              "      quickchartButtonEl.style.display =\n",
              "        google.colab.kernel.accessAllowed ? 'block' : 'none';\n",
              "    })();\n",
              "  </script>\n",
              "</div>\n",
              "\n",
              "    </div>\n",
              "  </div>\n"
            ],
            "application/vnd.google.colaboratory.intrinsic+json": {
              "type": "dataframe"
            }
          },
          "metadata": {},
          "execution_count": 27
        }
      ],
      "source": [
        "# Printing the entries containing the phone number (263) 382-8004\n",
        "dfm[dfm[\"phone\"] == \"(263) 382-8004\"]"
      ]
    },
    {
      "cell_type": "code",
      "execution_count": null,
      "metadata": {
        "id": "y341vnEB4fkt",
        "outputId": "7e816350-d9c2-4bfa-88f9-59fa2a17dbf7",
        "colab": {
          "base_uri": "https://localhost:8080/",
          "height": 231
        },
        "collapsed": true
      },
      "outputs": [
        {
          "output_type": "execute_result",
          "data": {
            "text/plain": [
              "   prefix  first   last                email  gender  age            company  \\\n",
              "15   Mrs.  Lilly  Tyler      kofadu@itohi.tf  Female   38          CSX Corp.   \n",
              "16   Mrs.  Peter   Cain  megkosig@anazeor.gn    Male   27  Campbell Soup Co.   \n",
              "\n",
              "             profession           phone   postal  ...             cc_no  \\\n",
              "15  Structural Engineer  (263) 382-8004  V7K 1E3  ...    30000000000000   \n",
              "16   Insurance Adjuster  (263) 382-8004  E8T 2B4  ...  3530000000000000   \n",
              "\n",
              "     cc_exp                    cc_type price(CAD)  fav_color              ip  \\\n",
              "15  11/2022  Diners Club Carte Blanche       9.61     Yellow   74.124.37.227   \n",
              "16  03/2024                       Solo      13.74      Black  25.207.141.135   \n",
              "\n",
              "     weekday ampm        date         Name  \n",
              "15  Saturday   am  03/30/1985  Lilly Tyler  \n",
              "16   Tuesday   am  08/05/1950   Peter Cain  \n",
              "\n",
              "[2 rows x 21 columns]"
            ],
            "text/html": [
              "\n",
              "  <div id=\"df-de0e9588-4713-47fa-aa7c-5c34f7f25765\" class=\"colab-df-container\">\n",
              "    <div>\n",
              "<style scoped>\n",
              "    .dataframe tbody tr th:only-of-type {\n",
              "        vertical-align: middle;\n",
              "    }\n",
              "\n",
              "    .dataframe tbody tr th {\n",
              "        vertical-align: top;\n",
              "    }\n",
              "\n",
              "    .dataframe thead th {\n",
              "        text-align: right;\n",
              "    }\n",
              "</style>\n",
              "<table border=\"1\" class=\"dataframe\">\n",
              "  <thead>\n",
              "    <tr style=\"text-align: right;\">\n",
              "      <th></th>\n",
              "      <th>prefix</th>\n",
              "      <th>first</th>\n",
              "      <th>last</th>\n",
              "      <th>email</th>\n",
              "      <th>gender</th>\n",
              "      <th>age</th>\n",
              "      <th>company</th>\n",
              "      <th>profession</th>\n",
              "      <th>phone</th>\n",
              "      <th>postal</th>\n",
              "      <th>...</th>\n",
              "      <th>cc_no</th>\n",
              "      <th>cc_exp</th>\n",
              "      <th>cc_type</th>\n",
              "      <th>price(CAD)</th>\n",
              "      <th>fav_color</th>\n",
              "      <th>ip</th>\n",
              "      <th>weekday</th>\n",
              "      <th>ampm</th>\n",
              "      <th>date</th>\n",
              "      <th>Name</th>\n",
              "    </tr>\n",
              "  </thead>\n",
              "  <tbody>\n",
              "    <tr>\n",
              "      <th>15</th>\n",
              "      <td>Mrs.</td>\n",
              "      <td>Lilly</td>\n",
              "      <td>Tyler</td>\n",
              "      <td>kofadu@itohi.tf</td>\n",
              "      <td>Female</td>\n",
              "      <td>38</td>\n",
              "      <td>CSX Corp.</td>\n",
              "      <td>Structural Engineer</td>\n",
              "      <td>(263) 382-8004</td>\n",
              "      <td>V7K 1E3</td>\n",
              "      <td>...</td>\n",
              "      <td>30000000000000</td>\n",
              "      <td>11/2022</td>\n",
              "      <td>Diners Club Carte Blanche</td>\n",
              "      <td>9.61</td>\n",
              "      <td>Yellow</td>\n",
              "      <td>74.124.37.227</td>\n",
              "      <td>Saturday</td>\n",
              "      <td>am</td>\n",
              "      <td>03/30/1985</td>\n",
              "      <td>Lilly Tyler</td>\n",
              "    </tr>\n",
              "    <tr>\n",
              "      <th>16</th>\n",
              "      <td>Mrs.</td>\n",
              "      <td>Peter</td>\n",
              "      <td>Cain</td>\n",
              "      <td>megkosig@anazeor.gn</td>\n",
              "      <td>Male</td>\n",
              "      <td>27</td>\n",
              "      <td>Campbell Soup Co.</td>\n",
              "      <td>Insurance Adjuster</td>\n",
              "      <td>(263) 382-8004</td>\n",
              "      <td>E8T 2B4</td>\n",
              "      <td>...</td>\n",
              "      <td>3530000000000000</td>\n",
              "      <td>03/2024</td>\n",
              "      <td>Solo</td>\n",
              "      <td>13.74</td>\n",
              "      <td>Black</td>\n",
              "      <td>25.207.141.135</td>\n",
              "      <td>Tuesday</td>\n",
              "      <td>am</td>\n",
              "      <td>08/05/1950</td>\n",
              "      <td>Peter Cain</td>\n",
              "    </tr>\n",
              "  </tbody>\n",
              "</table>\n",
              "<p>2 rows × 21 columns</p>\n",
              "</div>\n",
              "    <div class=\"colab-df-buttons\">\n",
              "\n",
              "  <div class=\"colab-df-container\">\n",
              "    <button class=\"colab-df-convert\" onclick=\"convertToInteractive('df-de0e9588-4713-47fa-aa7c-5c34f7f25765')\"\n",
              "            title=\"Convert this dataframe to an interactive table.\"\n",
              "            style=\"display:none;\">\n",
              "\n",
              "  <svg xmlns=\"http://www.w3.org/2000/svg\" height=\"24px\" viewBox=\"0 -960 960 960\">\n",
              "    <path d=\"M120-120v-720h720v720H120Zm60-500h600v-160H180v160Zm220 220h160v-160H400v160Zm0 220h160v-160H400v160ZM180-400h160v-160H180v160Zm440 0h160v-160H620v160ZM180-180h160v-160H180v160Zm440 0h160v-160H620v160Z\"/>\n",
              "  </svg>\n",
              "    </button>\n",
              "\n",
              "  <style>\n",
              "    .colab-df-container {\n",
              "      display:flex;\n",
              "      gap: 12px;\n",
              "    }\n",
              "\n",
              "    .colab-df-convert {\n",
              "      background-color: #E8F0FE;\n",
              "      border: none;\n",
              "      border-radius: 50%;\n",
              "      cursor: pointer;\n",
              "      display: none;\n",
              "      fill: #1967D2;\n",
              "      height: 32px;\n",
              "      padding: 0 0 0 0;\n",
              "      width: 32px;\n",
              "    }\n",
              "\n",
              "    .colab-df-convert:hover {\n",
              "      background-color: #E2EBFA;\n",
              "      box-shadow: 0px 1px 2px rgba(60, 64, 67, 0.3), 0px 1px 3px 1px rgba(60, 64, 67, 0.15);\n",
              "      fill: #174EA6;\n",
              "    }\n",
              "\n",
              "    .colab-df-buttons div {\n",
              "      margin-bottom: 4px;\n",
              "    }\n",
              "\n",
              "    [theme=dark] .colab-df-convert {\n",
              "      background-color: #3B4455;\n",
              "      fill: #D2E3FC;\n",
              "    }\n",
              "\n",
              "    [theme=dark] .colab-df-convert:hover {\n",
              "      background-color: #434B5C;\n",
              "      box-shadow: 0px 1px 3px 1px rgba(0, 0, 0, 0.15);\n",
              "      filter: drop-shadow(0px 1px 2px rgba(0, 0, 0, 0.3));\n",
              "      fill: #FFFFFF;\n",
              "    }\n",
              "  </style>\n",
              "\n",
              "    <script>\n",
              "      const buttonEl =\n",
              "        document.querySelector('#df-de0e9588-4713-47fa-aa7c-5c34f7f25765 button.colab-df-convert');\n",
              "      buttonEl.style.display =\n",
              "        google.colab.kernel.accessAllowed ? 'block' : 'none';\n",
              "\n",
              "      async function convertToInteractive(key) {\n",
              "        const element = document.querySelector('#df-de0e9588-4713-47fa-aa7c-5c34f7f25765');\n",
              "        const dataTable =\n",
              "          await google.colab.kernel.invokeFunction('convertToInteractive',\n",
              "                                                    [key], {});\n",
              "        if (!dataTable) return;\n",
              "\n",
              "        const docLinkHtml = 'Like what you see? Visit the ' +\n",
              "          '<a target=\"_blank\" href=https://colab.research.google.com/notebooks/data_table.ipynb>data table notebook</a>'\n",
              "          + ' to learn more about interactive tables.';\n",
              "        element.innerHTML = '';\n",
              "        dataTable['output_type'] = 'display_data';\n",
              "        await google.colab.output.renderOutput(dataTable, element);\n",
              "        const docLink = document.createElement('div');\n",
              "        docLink.innerHTML = docLinkHtml;\n",
              "        element.appendChild(docLink);\n",
              "      }\n",
              "    </script>\n",
              "  </div>\n",
              "\n",
              "\n",
              "<div id=\"df-dc059575-d42b-47a4-9bbd-8f3b6a77a0b3\">\n",
              "  <button class=\"colab-df-quickchart\" onclick=\"quickchart('df-dc059575-d42b-47a4-9bbd-8f3b6a77a0b3')\"\n",
              "            title=\"Suggest charts\"\n",
              "            style=\"display:none;\">\n",
              "\n",
              "<svg xmlns=\"http://www.w3.org/2000/svg\" height=\"24px\"viewBox=\"0 0 24 24\"\n",
              "     width=\"24px\">\n",
              "    <g>\n",
              "        <path d=\"M19 3H5c-1.1 0-2 .9-2 2v14c0 1.1.9 2 2 2h14c1.1 0 2-.9 2-2V5c0-1.1-.9-2-2-2zM9 17H7v-7h2v7zm4 0h-2V7h2v10zm4 0h-2v-4h2v4z\"/>\n",
              "    </g>\n",
              "</svg>\n",
              "  </button>\n",
              "\n",
              "<style>\n",
              "  .colab-df-quickchart {\n",
              "      --bg-color: #E8F0FE;\n",
              "      --fill-color: #1967D2;\n",
              "      --hover-bg-color: #E2EBFA;\n",
              "      --hover-fill-color: #174EA6;\n",
              "      --disabled-fill-color: #AAA;\n",
              "      --disabled-bg-color: #DDD;\n",
              "  }\n",
              "\n",
              "  [theme=dark] .colab-df-quickchart {\n",
              "      --bg-color: #3B4455;\n",
              "      --fill-color: #D2E3FC;\n",
              "      --hover-bg-color: #434B5C;\n",
              "      --hover-fill-color: #FFFFFF;\n",
              "      --disabled-bg-color: #3B4455;\n",
              "      --disabled-fill-color: #666;\n",
              "  }\n",
              "\n",
              "  .colab-df-quickchart {\n",
              "    background-color: var(--bg-color);\n",
              "    border: none;\n",
              "    border-radius: 50%;\n",
              "    cursor: pointer;\n",
              "    display: none;\n",
              "    fill: var(--fill-color);\n",
              "    height: 32px;\n",
              "    padding: 0;\n",
              "    width: 32px;\n",
              "  }\n",
              "\n",
              "  .colab-df-quickchart:hover {\n",
              "    background-color: var(--hover-bg-color);\n",
              "    box-shadow: 0 1px 2px rgba(60, 64, 67, 0.3), 0 1px 3px 1px rgba(60, 64, 67, 0.15);\n",
              "    fill: var(--button-hover-fill-color);\n",
              "  }\n",
              "\n",
              "  .colab-df-quickchart-complete:disabled,\n",
              "  .colab-df-quickchart-complete:disabled:hover {\n",
              "    background-color: var(--disabled-bg-color);\n",
              "    fill: var(--disabled-fill-color);\n",
              "    box-shadow: none;\n",
              "  }\n",
              "\n",
              "  .colab-df-spinner {\n",
              "    border: 2px solid var(--fill-color);\n",
              "    border-color: transparent;\n",
              "    border-bottom-color: var(--fill-color);\n",
              "    animation:\n",
              "      spin 1s steps(1) infinite;\n",
              "  }\n",
              "\n",
              "  @keyframes spin {\n",
              "    0% {\n",
              "      border-color: transparent;\n",
              "      border-bottom-color: var(--fill-color);\n",
              "      border-left-color: var(--fill-color);\n",
              "    }\n",
              "    20% {\n",
              "      border-color: transparent;\n",
              "      border-left-color: var(--fill-color);\n",
              "      border-top-color: var(--fill-color);\n",
              "    }\n",
              "    30% {\n",
              "      border-color: transparent;\n",
              "      border-left-color: var(--fill-color);\n",
              "      border-top-color: var(--fill-color);\n",
              "      border-right-color: var(--fill-color);\n",
              "    }\n",
              "    40% {\n",
              "      border-color: transparent;\n",
              "      border-right-color: var(--fill-color);\n",
              "      border-top-color: var(--fill-color);\n",
              "    }\n",
              "    60% {\n",
              "      border-color: transparent;\n",
              "      border-right-color: var(--fill-color);\n",
              "    }\n",
              "    80% {\n",
              "      border-color: transparent;\n",
              "      border-right-color: var(--fill-color);\n",
              "      border-bottom-color: var(--fill-color);\n",
              "    }\n",
              "    90% {\n",
              "      border-color: transparent;\n",
              "      border-bottom-color: var(--fill-color);\n",
              "    }\n",
              "  }\n",
              "</style>\n",
              "\n",
              "  <script>\n",
              "    async function quickchart(key) {\n",
              "      const quickchartButtonEl =\n",
              "        document.querySelector('#' + key + ' button');\n",
              "      quickchartButtonEl.disabled = true;  // To prevent multiple clicks.\n",
              "      quickchartButtonEl.classList.add('colab-df-spinner');\n",
              "      try {\n",
              "        const charts = await google.colab.kernel.invokeFunction(\n",
              "            'suggestCharts', [key], {});\n",
              "      } catch (error) {\n",
              "        console.error('Error during call to suggestCharts:', error);\n",
              "      }\n",
              "      quickchartButtonEl.classList.remove('colab-df-spinner');\n",
              "      quickchartButtonEl.classList.add('colab-df-quickchart-complete');\n",
              "    }\n",
              "    (() => {\n",
              "      let quickchartButtonEl =\n",
              "        document.querySelector('#df-dc059575-d42b-47a4-9bbd-8f3b6a77a0b3 button');\n",
              "      quickchartButtonEl.style.display =\n",
              "        google.colab.kernel.accessAllowed ? 'block' : 'none';\n",
              "    })();\n",
              "  </script>\n",
              "</div>\n",
              "\n",
              "    </div>\n",
              "  </div>\n"
            ],
            "application/vnd.google.colaboratory.intrinsic+json": {
              "type": "dataframe"
            }
          },
          "metadata": {},
          "execution_count": 11
        }
      ],
      "source": [
        "# Now we know the phone number, let's find out the other stuff!"
      ]
    },
    {
      "cell_type": "markdown",
      "metadata": {
        "id": "I9CBcuMo4fkt"
      },
      "source": [
        "**7. How many customers have profession \"Structural Engineer\"?**"
      ]
    },
    {
      "cell_type": "code",
      "execution_count": null,
      "metadata": {
        "colab": {
          "base_uri": "https://localhost:8080/"
        },
        "id": "shajWaFy4fku",
        "outputId": "1d9bb46f-95ac-49e9-84d6-b71c1df0b997"
      },
      "outputs": [
        {
          "output_type": "stream",
          "name": "stdout",
          "text": [
            "Number of customers having the profession Structural Engineer:  87\n"
          ]
        }
      ],
      "source": [
        "# Counting the number of entries where 'Structural Engineer' appears and storing in a dataframe 'SE_count'\n",
        "SE_count = dfm[dfm[\"profession\"] == \"Structural Engineer\"][\"profession\"].count()\n",
        "\n",
        "# Printing the number of entries where 'Structural Engineer' appears\n",
        "print(\"Number of customers having the profession Structural Engineer: \", SE_count)"
      ]
    },
    {
      "cell_type": "code",
      "execution_count": null,
      "metadata": {
        "id": "19mjlB5A4fku",
        "outputId": "e200bfc5-997a-41e1-ae23-6d5e2a45a03e",
        "collapsed": true
      },
      "outputs": [
        {
          "data": {
            "text/plain": [
              "prefix        87\n",
              "first         87\n",
              "last          87\n",
              "email         87\n",
              "gender        87\n",
              "age           87\n",
              "company       87\n",
              "profession    87\n",
              "phone         87\n",
              "postal        87\n",
              "province      87\n",
              "cc_no         87\n",
              "cc_exp        87\n",
              "cc_type       87\n",
              "price(CAD)    87\n",
              "fav_color     87\n",
              "ip            87\n",
              "weekday       87\n",
              "ampm          87\n",
              "date          87\n",
              "dtype: int64"
            ]
          },
          "execution_count": 9,
          "metadata": {},
          "output_type": "execute_result"
        }
      ],
      "source": []
    },
    {
      "cell_type": "markdown",
      "metadata": {
        "id": "0ZdERf4B4fku"
      },
      "source": [
        "**8. How many male customers are 'Structural Engineer'?**"
      ]
    },
    {
      "cell_type": "code",
      "execution_count": null,
      "metadata": {
        "id": "O5wYhMa64fku",
        "colab": {
          "base_uri": "https://localhost:8080/"
        },
        "outputId": "768fcf38-d264-4890-a2f7-2ca230a14cf6"
      },
      "outputs": [
        {
          "output_type": "stream",
          "name": "stdout",
          "text": [
            "Number of male customers having the profession Structural Engineer:  43\n"
          ]
        }
      ],
      "source": [
        "# Counting the number of entries having 'Structural Engineer' and 'Male' and storing in a dataframe 'SE_M_count'\n",
        "SE_M_count = dfm[(dfm[\"profession\"] == \"Structural Engineer\") & (dfm[\"gender\"] == \"Male\")][\"profession\"].count()\n",
        "\n",
        "# Printing the number of male Structural Engineers\n",
        "print(\"Number of male customers having the profession Structural Engineer: \", SE_M_count)"
      ]
    },
    {
      "cell_type": "code",
      "execution_count": null,
      "metadata": {
        "id": "i3SkMhJc4fkv",
        "outputId": "4e8884b9-4f45-480a-fa7b-940684aabd5b",
        "collapsed": true
      },
      "outputs": [
        {
          "data": {
            "text/plain": [
              "prefix        43\n",
              "first         43\n",
              "last          43\n",
              "email         43\n",
              "gender        43\n",
              "age           43\n",
              "company       43\n",
              "profession    43\n",
              "phone         43\n",
              "postal        43\n",
              "province      43\n",
              "cc_no         43\n",
              "cc_exp        43\n",
              "cc_type       43\n",
              "price(CAD)    43\n",
              "fav_color     43\n",
              "ip            43\n",
              "weekday       43\n",
              "ampm          43\n",
              "date          43\n",
              "dtype: int64"
            ]
          },
          "execution_count": 10,
          "metadata": {},
          "output_type": "execute_result"
        }
      ],
      "source": []
    },
    {
      "cell_type": "markdown",
      "metadata": {
        "id": "JGXX8KEX4fkv"
      },
      "source": [
        "**9. Find out the female Structural Engineers from province Alberta (AB)?**"
      ]
    },
    {
      "cell_type": "code",
      "execution_count": null,
      "metadata": {
        "id": "fw00av3Y4fkw",
        "colab": {
          "base_uri": "https://localhost:8080/"
        },
        "outputId": "06b45279-bef7-487b-aae1-0f07ef184768"
      },
      "outputs": [
        {
          "output_type": "stream",
          "name": "stdout",
          "text": [
            "The number of female customers from Alberta having the profession Structural Engineer is  4\n",
            "\n",
            "       prefix first      last              email  gender  age                         company           profession           phone   postal province             cc_no   cc_exp                             cc_type  price(CAD) fav_color               ip    weekday ampm        date           Name\n",
            "8858     Dr.   Roy   Stanley  apiunvo@ehasom.ir  Female   39      Cincinnati Financial Corp.  Structural Engineer  (876) 758-2929  N5A 6L2       AB  6300000000000000  02/2022                        InstaPayment       31.86       Red   165.249.159.57     Sunday   pm  12/25/1903    Roy Stanley\n",
            "9058     Mr.  Lora   Kennedy    dennap@rabac.se  Female   51             BJ Services Company  Structural Engineer  (305) 786-6959  N3R 4B7       AB   201000000000000  06/2019  Diners Club United States & Canada       53.29     Black   42.216.243.206   Thursday   pm  06/06/2028   Lora Kennedy\n",
            "24736   Mrs.  Nell  Richards          dob@me.ki  Female   18    Telephone & Data Systems Inc  Structural Engineer  (262) 681-5018  N3Y 3G2       AB   347000000000000  07/2028                    American Express       76.28      Blue     91.16.30.156  Wednesday   pm  07/14/1951  Nell Richards\n",
            "29865   Mrs.   Don  McDaniel        naf@zudu.bj  Female   37  Anadarko Petroleum Corporation  Structural Engineer  (238) 789-2825  B4A 8Q9       AB  5610000000000000  12/2022                          Mastercard       62.71      Blue  162.233.117.142     Sunday   pm  11/03/1989   Don McDaniel\n"
          ]
        }
      ],
      "source": [
        "# Counting the number of entries having 'Structural Engineer' and 'Male' and storing in a dataframe 'SE_F_count'\n",
        "SE_F = dfm[(dfm[\"profession\"] == \"Structural Engineer\") & (dfm[\"gender\"] == \"Female\") & (dfm[\"province\"] == \"AB\")]\n",
        "\n",
        "# Printing the number of entries in dataframe 'SE_F_count'\n",
        "print(\"The number of female customers from Alberta having the profession Structural Engineer is \", SE_F.shape[0])\n",
        "\n",
        "# Printing the entries in dataframe 'SE_F_count'\n",
        "print(\"\\n\", SE_F)"
      ]
    },
    {
      "cell_type": "code",
      "execution_count": null,
      "metadata": {
        "id": "WHdCmYSc4fkx",
        "outputId": "b542c295-6994-431f-8d9a-edd4bd7259ae",
        "collapsed": true
      },
      "outputs": [
        {
          "data": {
            "text/html": [
              "<div>\n",
              "<style>\n",
              "    .dataframe thead tr:only-child th {\n",
              "        text-align: right;\n",
              "    }\n",
              "\n",
              "    .dataframe thead th {\n",
              "        text-align: left;\n",
              "    }\n",
              "\n",
              "    .dataframe tbody tr th {\n",
              "        vertical-align: top;\n",
              "    }\n",
              "</style>\n",
              "<table border=\"1\" class=\"dataframe\">\n",
              "  <thead>\n",
              "    <tr style=\"text-align: right;\">\n",
              "      <th></th>\n",
              "      <th>prefix</th>\n",
              "      <th>first</th>\n",
              "      <th>last</th>\n",
              "      <th>email</th>\n",
              "      <th>gender</th>\n",
              "      <th>age</th>\n",
              "      <th>company</th>\n",
              "      <th>profession</th>\n",
              "      <th>phone</th>\n",
              "      <th>postal</th>\n",
              "      <th>province</th>\n",
              "      <th>cc_no</th>\n",
              "      <th>cc_exp</th>\n",
              "      <th>cc_type</th>\n",
              "      <th>price(CAD)</th>\n",
              "      <th>fav_color</th>\n",
              "      <th>ip</th>\n",
              "      <th>weekday</th>\n",
              "      <th>ampm</th>\n",
              "      <th>date</th>\n",
              "    </tr>\n",
              "  </thead>\n",
              "  <tbody>\n",
              "    <tr>\n",
              "      <th>8858</th>\n",
              "      <td>Dr.</td>\n",
              "      <td>Roy</td>\n",
              "      <td>Stanley</td>\n",
              "      <td>apiunvo@ehasom.ir</td>\n",
              "      <td>Female</td>\n",
              "      <td>39</td>\n",
              "      <td>Cincinnati Financial Corp.</td>\n",
              "      <td>Structural Engineer</td>\n",
              "      <td>(876) 758-2929</td>\n",
              "      <td>N5A 6L2</td>\n",
              "      <td>AB</td>\n",
              "      <td>6300000000000000</td>\n",
              "      <td>02/2022</td>\n",
              "      <td>InstaPayment</td>\n",
              "      <td>31.86</td>\n",
              "      <td>Red</td>\n",
              "      <td>165.249.159.57</td>\n",
              "      <td>Sunday</td>\n",
              "      <td>pm</td>\n",
              "      <td>12/25/1903</td>\n",
              "    </tr>\n",
              "    <tr>\n",
              "      <th>9058</th>\n",
              "      <td>Mr.</td>\n",
              "      <td>Lora</td>\n",
              "      <td>Kennedy</td>\n",
              "      <td>dennap@rabac.se</td>\n",
              "      <td>Female</td>\n",
              "      <td>51</td>\n",
              "      <td>BJ Services Company</td>\n",
              "      <td>Structural Engineer</td>\n",
              "      <td>(305) 786-6959</td>\n",
              "      <td>N3R 4B7</td>\n",
              "      <td>AB</td>\n",
              "      <td>201000000000000</td>\n",
              "      <td>06/2019</td>\n",
              "      <td>Diners Club United States &amp; Canada</td>\n",
              "      <td>53.29</td>\n",
              "      <td>Black</td>\n",
              "      <td>42.216.243.206</td>\n",
              "      <td>Thursday</td>\n",
              "      <td>pm</td>\n",
              "      <td>06/06/2028</td>\n",
              "    </tr>\n",
              "    <tr>\n",
              "      <th>24736</th>\n",
              "      <td>Mrs.</td>\n",
              "      <td>Nell</td>\n",
              "      <td>Richards</td>\n",
              "      <td>dob@me.ki</td>\n",
              "      <td>Female</td>\n",
              "      <td>18</td>\n",
              "      <td>Telephone &amp; Data Systems Inc</td>\n",
              "      <td>Structural Engineer</td>\n",
              "      <td>(262) 681-5018</td>\n",
              "      <td>N3Y 3G2</td>\n",
              "      <td>AB</td>\n",
              "      <td>347000000000000</td>\n",
              "      <td>07/2028</td>\n",
              "      <td>American Express</td>\n",
              "      <td>76.28</td>\n",
              "      <td>Blue</td>\n",
              "      <td>91.16.30.156</td>\n",
              "      <td>Wednesday</td>\n",
              "      <td>pm</td>\n",
              "      <td>07/14/1951</td>\n",
              "    </tr>\n",
              "    <tr>\n",
              "      <th>29865</th>\n",
              "      <td>Mrs.</td>\n",
              "      <td>Don</td>\n",
              "      <td>McDaniel</td>\n",
              "      <td>naf@zudu.bj</td>\n",
              "      <td>Female</td>\n",
              "      <td>37</td>\n",
              "      <td>Anadarko Petroleum Corporation</td>\n",
              "      <td>Structural Engineer</td>\n",
              "      <td>(238) 789-2825</td>\n",
              "      <td>B4A 8Q9</td>\n",
              "      <td>AB</td>\n",
              "      <td>5610000000000000</td>\n",
              "      <td>12/2022</td>\n",
              "      <td>Mastercard</td>\n",
              "      <td>62.71</td>\n",
              "      <td>Blue</td>\n",
              "      <td>162.233.117.142</td>\n",
              "      <td>Sunday</td>\n",
              "      <td>pm</td>\n",
              "      <td>11/03/1989</td>\n",
              "    </tr>\n",
              "  </tbody>\n",
              "</table>\n",
              "</div>"
            ],
            "text/plain": [
              "      prefix first      last              email  gender  age  \\\n",
              "8858     Dr.   Roy   Stanley  apiunvo@ehasom.ir  Female   39   \n",
              "9058     Mr.  Lora   Kennedy    dennap@rabac.se  Female   51   \n",
              "24736   Mrs.  Nell  Richards          dob@me.ki  Female   18   \n",
              "29865   Mrs.   Don  McDaniel        naf@zudu.bj  Female   37   \n",
              "\n",
              "                              company           profession           phone  \\\n",
              "8858       Cincinnati Financial Corp.  Structural Engineer  (876) 758-2929   \n",
              "9058              BJ Services Company  Structural Engineer  (305) 786-6959   \n",
              "24736    Telephone & Data Systems Inc  Structural Engineer  (262) 681-5018   \n",
              "29865  Anadarko Petroleum Corporation  Structural Engineer  (238) 789-2825   \n",
              "\n",
              "        postal province             cc_no   cc_exp  \\\n",
              "8858   N5A 6L2       AB  6300000000000000  02/2022   \n",
              "9058   N3R 4B7       AB   201000000000000  06/2019   \n",
              "24736  N3Y 3G2       AB   347000000000000  07/2028   \n",
              "29865  B4A 8Q9       AB  5610000000000000  12/2022   \n",
              "\n",
              "                                  cc_type  price(CAD) fav_color  \\\n",
              "8858                         InstaPayment       31.86       Red   \n",
              "9058   Diners Club United States & Canada       53.29     Black   \n",
              "24736                    American Express       76.28      Blue   \n",
              "29865                          Mastercard       62.71      Blue   \n",
              "\n",
              "                    ip    weekday ampm        date  \n",
              "8858    165.249.159.57     Sunday   pm  12/25/1903  \n",
              "9058    42.216.243.206   Thursday   pm  06/06/2028  \n",
              "24736     91.16.30.156  Wednesday   pm  07/14/1951  \n",
              "29865  162.233.117.142     Sunday   pm  11/03/1989  "
            ]
          },
          "execution_count": 11,
          "metadata": {},
          "output_type": "execute_result"
        }
      ],
      "source": []
    },
    {
      "cell_type": "markdown",
      "metadata": {
        "id": "FPmvE4TW4fky"
      },
      "source": [
        "**10. What is the max, min and average spending?**"
      ]
    },
    {
      "cell_type": "code",
      "execution_count": null,
      "metadata": {
        "id": "5GU2vPVl4fky",
        "colab": {
          "base_uri": "https://localhost:8080/"
        },
        "outputId": "79953bb2-5851-42f3-f7a0-a9dcb0977bb5"
      },
      "outputs": [
        {
          "output_type": "stream",
          "name": "stdout",
          "text": [
            "Maximum spending by a customer is 100.0\n",
            "Minimum spending by a customer is 0.0\n",
            "Average spending by a customer is 49.990775\n"
          ]
        }
      ],
      "source": [
        "print(\"Maximum spending by a customer is\", dfm[\"price(CAD)\"].max())\n",
        "print(\"Minimum spending by a customer is\", dfm[\"price(CAD)\"].min())\n",
        "print(\"Average spending by a customer is\", dfm[\"price(CAD)\"].mean())"
      ]
    },
    {
      "cell_type": "code",
      "execution_count": null,
      "metadata": {
        "id": "yUAwp5414fky",
        "outputId": "28ca384a-2212-483a-fc8e-12081373a91c",
        "collapsed": true
      },
      "outputs": [
        {
          "name": "stdout",
          "output_type": "stream",
          "text": [
            "Max. spending:  100.0\n",
            "Mai. spending:  0.0\n",
            "Avg. spending:  49.990775000000184\n"
          ]
        }
      ],
      "source": []
    },
    {
      "cell_type": "markdown",
      "metadata": {
        "id": "yViho8hF4fky"
      },
      "source": [
        "**11. Who did not spend anything? Company wants to send a deal to encourage the customer to buy stuff!**"
      ]
    },
    {
      "cell_type": "code",
      "execution_count": null,
      "metadata": {
        "id": "U9inwGs94fkz",
        "colab": {
          "base_uri": "https://localhost:8080/",
          "height": 112
        },
        "outputId": "fb2d392c-7d04-42ac-8879-a4f716bb52d3"
      },
      "outputs": [
        {
          "output_type": "execute_result",
          "data": {
            "text/plain": [
              "      prefix         Name  price(CAD)\n",
              "5320     Dr.  Bruce Bryan         0.0\n",
              "10597   Mrs.  Flora Clark         0.0"
            ],
            "text/html": [
              "\n",
              "  <div id=\"df-8df65b26-a91b-47ad-8056-df503197191a\" class=\"colab-df-container\">\n",
              "    <div>\n",
              "<style scoped>\n",
              "    .dataframe tbody tr th:only-of-type {\n",
              "        vertical-align: middle;\n",
              "    }\n",
              "\n",
              "    .dataframe tbody tr th {\n",
              "        vertical-align: top;\n",
              "    }\n",
              "\n",
              "    .dataframe thead th {\n",
              "        text-align: right;\n",
              "    }\n",
              "</style>\n",
              "<table border=\"1\" class=\"dataframe\">\n",
              "  <thead>\n",
              "    <tr style=\"text-align: right;\">\n",
              "      <th></th>\n",
              "      <th>prefix</th>\n",
              "      <th>Name</th>\n",
              "      <th>price(CAD)</th>\n",
              "    </tr>\n",
              "  </thead>\n",
              "  <tbody>\n",
              "    <tr>\n",
              "      <th>5320</th>\n",
              "      <td>Dr.</td>\n",
              "      <td>Bruce Bryan</td>\n",
              "      <td>0.0</td>\n",
              "    </tr>\n",
              "    <tr>\n",
              "      <th>10597</th>\n",
              "      <td>Mrs.</td>\n",
              "      <td>Flora Clark</td>\n",
              "      <td>0.0</td>\n",
              "    </tr>\n",
              "  </tbody>\n",
              "</table>\n",
              "</div>\n",
              "    <div class=\"colab-df-buttons\">\n",
              "\n",
              "  <div class=\"colab-df-container\">\n",
              "    <button class=\"colab-df-convert\" onclick=\"convertToInteractive('df-8df65b26-a91b-47ad-8056-df503197191a')\"\n",
              "            title=\"Convert this dataframe to an interactive table.\"\n",
              "            style=\"display:none;\">\n",
              "\n",
              "  <svg xmlns=\"http://www.w3.org/2000/svg\" height=\"24px\" viewBox=\"0 -960 960 960\">\n",
              "    <path d=\"M120-120v-720h720v720H120Zm60-500h600v-160H180v160Zm220 220h160v-160H400v160Zm0 220h160v-160H400v160ZM180-400h160v-160H180v160Zm440 0h160v-160H620v160ZM180-180h160v-160H180v160Zm440 0h160v-160H620v160Z\"/>\n",
              "  </svg>\n",
              "    </button>\n",
              "\n",
              "  <style>\n",
              "    .colab-df-container {\n",
              "      display:flex;\n",
              "      gap: 12px;\n",
              "    }\n",
              "\n",
              "    .colab-df-convert {\n",
              "      background-color: #E8F0FE;\n",
              "      border: none;\n",
              "      border-radius: 50%;\n",
              "      cursor: pointer;\n",
              "      display: none;\n",
              "      fill: #1967D2;\n",
              "      height: 32px;\n",
              "      padding: 0 0 0 0;\n",
              "      width: 32px;\n",
              "    }\n",
              "\n",
              "    .colab-df-convert:hover {\n",
              "      background-color: #E2EBFA;\n",
              "      box-shadow: 0px 1px 2px rgba(60, 64, 67, 0.3), 0px 1px 3px 1px rgba(60, 64, 67, 0.15);\n",
              "      fill: #174EA6;\n",
              "    }\n",
              "\n",
              "    .colab-df-buttons div {\n",
              "      margin-bottom: 4px;\n",
              "    }\n",
              "\n",
              "    [theme=dark] .colab-df-convert {\n",
              "      background-color: #3B4455;\n",
              "      fill: #D2E3FC;\n",
              "    }\n",
              "\n",
              "    [theme=dark] .colab-df-convert:hover {\n",
              "      background-color: #434B5C;\n",
              "      box-shadow: 0px 1px 3px 1px rgba(0, 0, 0, 0.15);\n",
              "      filter: drop-shadow(0px 1px 2px rgba(0, 0, 0, 0.3));\n",
              "      fill: #FFFFFF;\n",
              "    }\n",
              "  </style>\n",
              "\n",
              "    <script>\n",
              "      const buttonEl =\n",
              "        document.querySelector('#df-8df65b26-a91b-47ad-8056-df503197191a button.colab-df-convert');\n",
              "      buttonEl.style.display =\n",
              "        google.colab.kernel.accessAllowed ? 'block' : 'none';\n",
              "\n",
              "      async function convertToInteractive(key) {\n",
              "        const element = document.querySelector('#df-8df65b26-a91b-47ad-8056-df503197191a');\n",
              "        const dataTable =\n",
              "          await google.colab.kernel.invokeFunction('convertToInteractive',\n",
              "                                                    [key], {});\n",
              "        if (!dataTable) return;\n",
              "\n",
              "        const docLinkHtml = 'Like what you see? Visit the ' +\n",
              "          '<a target=\"_blank\" href=https://colab.research.google.com/notebooks/data_table.ipynb>data table notebook</a>'\n",
              "          + ' to learn more about interactive tables.';\n",
              "        element.innerHTML = '';\n",
              "        dataTable['output_type'] = 'display_data';\n",
              "        await google.colab.output.renderOutput(dataTable, element);\n",
              "        const docLink = document.createElement('div');\n",
              "        docLink.innerHTML = docLinkHtml;\n",
              "        element.appendChild(docLink);\n",
              "      }\n",
              "    </script>\n",
              "  </div>\n",
              "\n",
              "\n",
              "<div id=\"df-5a292523-6547-40ce-992b-650638c4268b\">\n",
              "  <button class=\"colab-df-quickchart\" onclick=\"quickchart('df-5a292523-6547-40ce-992b-650638c4268b')\"\n",
              "            title=\"Suggest charts\"\n",
              "            style=\"display:none;\">\n",
              "\n",
              "<svg xmlns=\"http://www.w3.org/2000/svg\" height=\"24px\"viewBox=\"0 0 24 24\"\n",
              "     width=\"24px\">\n",
              "    <g>\n",
              "        <path d=\"M19 3H5c-1.1 0-2 .9-2 2v14c0 1.1.9 2 2 2h14c1.1 0 2-.9 2-2V5c0-1.1-.9-2-2-2zM9 17H7v-7h2v7zm4 0h-2V7h2v10zm4 0h-2v-4h2v4z\"/>\n",
              "    </g>\n",
              "</svg>\n",
              "  </button>\n",
              "\n",
              "<style>\n",
              "  .colab-df-quickchart {\n",
              "      --bg-color: #E8F0FE;\n",
              "      --fill-color: #1967D2;\n",
              "      --hover-bg-color: #E2EBFA;\n",
              "      --hover-fill-color: #174EA6;\n",
              "      --disabled-fill-color: #AAA;\n",
              "      --disabled-bg-color: #DDD;\n",
              "  }\n",
              "\n",
              "  [theme=dark] .colab-df-quickchart {\n",
              "      --bg-color: #3B4455;\n",
              "      --fill-color: #D2E3FC;\n",
              "      --hover-bg-color: #434B5C;\n",
              "      --hover-fill-color: #FFFFFF;\n",
              "      --disabled-bg-color: #3B4455;\n",
              "      --disabled-fill-color: #666;\n",
              "  }\n",
              "\n",
              "  .colab-df-quickchart {\n",
              "    background-color: var(--bg-color);\n",
              "    border: none;\n",
              "    border-radius: 50%;\n",
              "    cursor: pointer;\n",
              "    display: none;\n",
              "    fill: var(--fill-color);\n",
              "    height: 32px;\n",
              "    padding: 0;\n",
              "    width: 32px;\n",
              "  }\n",
              "\n",
              "  .colab-df-quickchart:hover {\n",
              "    background-color: var(--hover-bg-color);\n",
              "    box-shadow: 0 1px 2px rgba(60, 64, 67, 0.3), 0 1px 3px 1px rgba(60, 64, 67, 0.15);\n",
              "    fill: var(--button-hover-fill-color);\n",
              "  }\n",
              "\n",
              "  .colab-df-quickchart-complete:disabled,\n",
              "  .colab-df-quickchart-complete:disabled:hover {\n",
              "    background-color: var(--disabled-bg-color);\n",
              "    fill: var(--disabled-fill-color);\n",
              "    box-shadow: none;\n",
              "  }\n",
              "\n",
              "  .colab-df-spinner {\n",
              "    border: 2px solid var(--fill-color);\n",
              "    border-color: transparent;\n",
              "    border-bottom-color: var(--fill-color);\n",
              "    animation:\n",
              "      spin 1s steps(1) infinite;\n",
              "  }\n",
              "\n",
              "  @keyframes spin {\n",
              "    0% {\n",
              "      border-color: transparent;\n",
              "      border-bottom-color: var(--fill-color);\n",
              "      border-left-color: var(--fill-color);\n",
              "    }\n",
              "    20% {\n",
              "      border-color: transparent;\n",
              "      border-left-color: var(--fill-color);\n",
              "      border-top-color: var(--fill-color);\n",
              "    }\n",
              "    30% {\n",
              "      border-color: transparent;\n",
              "      border-left-color: var(--fill-color);\n",
              "      border-top-color: var(--fill-color);\n",
              "      border-right-color: var(--fill-color);\n",
              "    }\n",
              "    40% {\n",
              "      border-color: transparent;\n",
              "      border-right-color: var(--fill-color);\n",
              "      border-top-color: var(--fill-color);\n",
              "    }\n",
              "    60% {\n",
              "      border-color: transparent;\n",
              "      border-right-color: var(--fill-color);\n",
              "    }\n",
              "    80% {\n",
              "      border-color: transparent;\n",
              "      border-right-color: var(--fill-color);\n",
              "      border-bottom-color: var(--fill-color);\n",
              "    }\n",
              "    90% {\n",
              "      border-color: transparent;\n",
              "      border-bottom-color: var(--fill-color);\n",
              "    }\n",
              "  }\n",
              "</style>\n",
              "\n",
              "  <script>\n",
              "    async function quickchart(key) {\n",
              "      const quickchartButtonEl =\n",
              "        document.querySelector('#' + key + ' button');\n",
              "      quickchartButtonEl.disabled = true;  // To prevent multiple clicks.\n",
              "      quickchartButtonEl.classList.add('colab-df-spinner');\n",
              "      try {\n",
              "        const charts = await google.colab.kernel.invokeFunction(\n",
              "            'suggestCharts', [key], {});\n",
              "      } catch (error) {\n",
              "        console.error('Error during call to suggestCharts:', error);\n",
              "      }\n",
              "      quickchartButtonEl.classList.remove('colab-df-spinner');\n",
              "      quickchartButtonEl.classList.add('colab-df-quickchart-complete');\n",
              "    }\n",
              "    (() => {\n",
              "      let quickchartButtonEl =\n",
              "        document.querySelector('#df-5a292523-6547-40ce-992b-650638c4268b button');\n",
              "      quickchartButtonEl.style.display =\n",
              "        google.colab.kernel.accessAllowed ? 'block' : 'none';\n",
              "    })();\n",
              "  </script>\n",
              "</div>\n",
              "\n",
              "    </div>\n",
              "  </div>\n"
            ],
            "application/vnd.google.colaboratory.intrinsic+json": {
              "type": "dataframe",
              "summary": "{\n  \"name\": \"dfm[dfm[\\\"price(CAD)\\\"] == 0][[\\\"prefix\\\", \\\"Name\\\", \\\"price(CAD)\\\"]]\",\n  \"rows\": 2,\n  \"fields\": [\n    {\n      \"column\": \"prefix\",\n      \"properties\": {\n        \"dtype\": \"string\",\n        \"num_unique_values\": 2,\n        \"samples\": [\n          \"Mrs.\",\n          \"Dr.\"\n        ],\n        \"semantic_type\": \"\",\n        \"description\": \"\"\n      }\n    },\n    {\n      \"column\": \"Name\",\n      \"properties\": {\n        \"dtype\": \"string\",\n        \"num_unique_values\": 2,\n        \"samples\": [\n          \"Flora Clark\",\n          \"Bruce Bryan\"\n        ],\n        \"semantic_type\": \"\",\n        \"description\": \"\"\n      }\n    },\n    {\n      \"column\": \"price(CAD)\",\n      \"properties\": {\n        \"dtype\": \"number\",\n        \"std\": 0.0,\n        \"min\": 0.0,\n        \"max\": 0.0,\n        \"num_unique_values\": 1,\n        \"samples\": [\n          0.0\n        ],\n        \"semantic_type\": \"\",\n        \"description\": \"\"\n      }\n    }\n  ]\n}"
            }
          },
          "metadata": {},
          "execution_count": 45
        }
      ],
      "source": [
        "dfm[dfm[\"price(CAD)\"] == 0][[\"prefix\", \"Name\", \"price(CAD)\"]]"
      ]
    },
    {
      "cell_type": "code",
      "execution_count": null,
      "metadata": {
        "id": "sHlZSgk54fk0",
        "outputId": "c644a7ae-7ffc-4226-d3f6-121f299f1cc1",
        "collapsed": true
      },
      "outputs": [
        {
          "data": {
            "text/html": [
              "<div>\n",
              "<style>\n",
              "    .dataframe thead tr:only-child th {\n",
              "        text-align: right;\n",
              "    }\n",
              "\n",
              "    .dataframe thead th {\n",
              "        text-align: left;\n",
              "    }\n",
              "\n",
              "    .dataframe tbody tr th {\n",
              "        vertical-align: top;\n",
              "    }\n",
              "</style>\n",
              "<table border=\"1\" class=\"dataframe\">\n",
              "  <thead>\n",
              "    <tr style=\"text-align: right;\">\n",
              "      <th></th>\n",
              "      <th>prefix</th>\n",
              "      <th>first</th>\n",
              "      <th>last</th>\n",
              "      <th>email</th>\n",
              "      <th>gender</th>\n",
              "      <th>age</th>\n",
              "      <th>company</th>\n",
              "      <th>profession</th>\n",
              "      <th>phone</th>\n",
              "      <th>postal</th>\n",
              "      <th>province</th>\n",
              "      <th>cc_no</th>\n",
              "      <th>cc_exp</th>\n",
              "      <th>cc_type</th>\n",
              "      <th>price(CAD)</th>\n",
              "      <th>fav_color</th>\n",
              "      <th>ip</th>\n",
              "      <th>weekday</th>\n",
              "      <th>ampm</th>\n",
              "      <th>date</th>\n",
              "    </tr>\n",
              "  </thead>\n",
              "  <tbody>\n",
              "    <tr>\n",
              "      <th>5320</th>\n",
              "      <td>Dr.</td>\n",
              "      <td>Bruce</td>\n",
              "      <td>Bryan</td>\n",
              "      <td>ru@pubuspuh.cl</td>\n",
              "      <td>Male</td>\n",
              "      <td>59</td>\n",
              "      <td>Wal-Mart Stores Inc</td>\n",
              "      <td>Engineer Technician</td>\n",
              "      <td>(709) 446-8317</td>\n",
              "      <td>H6H 3Y0</td>\n",
              "      <td>NU</td>\n",
              "      <td>201000000000000</td>\n",
              "      <td>04/2024</td>\n",
              "      <td>Bankcard</td>\n",
              "      <td>0.0</td>\n",
              "      <td>White</td>\n",
              "      <td>82.70.62.64</td>\n",
              "      <td>Wednesday</td>\n",
              "      <td>am</td>\n",
              "      <td>12/11/1900</td>\n",
              "    </tr>\n",
              "    <tr>\n",
              "      <th>10597</th>\n",
              "      <td>Mrs.</td>\n",
              "      <td>Flora</td>\n",
              "      <td>Clark</td>\n",
              "      <td>wad@me.com</td>\n",
              "      <td>Female</td>\n",
              "      <td>27</td>\n",
              "      <td>MetLife Inc.</td>\n",
              "      <td>Cruise Director</td>\n",
              "      <td>(775) 373-6590</td>\n",
              "      <td>B2U 8K6</td>\n",
              "      <td>NB</td>\n",
              "      <td>30100000000000</td>\n",
              "      <td>05/2020</td>\n",
              "      <td>Diners Club Carte Blanche</td>\n",
              "      <td>0.0</td>\n",
              "      <td>Red</td>\n",
              "      <td>231.156.15.63</td>\n",
              "      <td>Thursday</td>\n",
              "      <td>pm</td>\n",
              "      <td>08/22/1904</td>\n",
              "    </tr>\n",
              "  </tbody>\n",
              "</table>\n",
              "</div>"
            ],
            "text/plain": [
              "      prefix  first   last           email  gender  age              company  \\\n",
              "5320     Dr.  Bruce  Bryan  ru@pubuspuh.cl    Male   59  Wal-Mart Stores Inc   \n",
              "10597   Mrs.  Flora  Clark      wad@me.com  Female   27         MetLife Inc.   \n",
              "\n",
              "                profession           phone   postal province            cc_no  \\\n",
              "5320   Engineer Technician  (709) 446-8317  H6H 3Y0       NU  201000000000000   \n",
              "10597      Cruise Director  (775) 373-6590  B2U 8K6       NB   30100000000000   \n",
              "\n",
              "        cc_exp                    cc_type  price(CAD) fav_color  \\\n",
              "5320   04/2024                   Bankcard         0.0     White   \n",
              "10597  05/2020  Diners Club Carte Blanche         0.0       Red   \n",
              "\n",
              "                  ip    weekday ampm        date  \n",
              "5320     82.70.62.64  Wednesday   am  12/11/1900  \n",
              "10597  231.156.15.63   Thursday   pm  08/22/1904  "
            ]
          },
          "execution_count": 13,
          "metadata": {},
          "output_type": "execute_result"
        }
      ],
      "source": []
    },
    {
      "cell_type": "markdown",
      "metadata": {
        "id": "tiG4gOJ94fk0"
      },
      "source": [
        "**12. As a loyalty reward, company wants to send thanks coupon to those who spent 100CAD or more, please find out the customers?**"
      ]
    },
    {
      "cell_type": "code",
      "execution_count": null,
      "metadata": {
        "id": "pZ_bRpWt4fk0",
        "colab": {
          "base_uri": "https://localhost:8080/",
          "height": 144
        },
        "outputId": "750fd621-aa24-4939-c4ba-2c2603a46462"
      },
      "outputs": [
        {
          "output_type": "execute_result",
          "data": {
            "text/plain": [
              "      prefix              Name  price(CAD)\n",
              "76      Mrs.     Gregory Brown       100.0\n",
              "21093   Mrs.  Cody Christensen       100.0\n",
              "24385   Miss      Lizzie Dixon       100.0"
            ],
            "text/html": [
              "\n",
              "  <div id=\"df-8d998239-bbf2-40ea-b04f-d1680fa2ba27\" class=\"colab-df-container\">\n",
              "    <div>\n",
              "<style scoped>\n",
              "    .dataframe tbody tr th:only-of-type {\n",
              "        vertical-align: middle;\n",
              "    }\n",
              "\n",
              "    .dataframe tbody tr th {\n",
              "        vertical-align: top;\n",
              "    }\n",
              "\n",
              "    .dataframe thead th {\n",
              "        text-align: right;\n",
              "    }\n",
              "</style>\n",
              "<table border=\"1\" class=\"dataframe\">\n",
              "  <thead>\n",
              "    <tr style=\"text-align: right;\">\n",
              "      <th></th>\n",
              "      <th>prefix</th>\n",
              "      <th>Name</th>\n",
              "      <th>price(CAD)</th>\n",
              "    </tr>\n",
              "  </thead>\n",
              "  <tbody>\n",
              "    <tr>\n",
              "      <th>76</th>\n",
              "      <td>Mrs.</td>\n",
              "      <td>Gregory Brown</td>\n",
              "      <td>100.0</td>\n",
              "    </tr>\n",
              "    <tr>\n",
              "      <th>21093</th>\n",
              "      <td>Mrs.</td>\n",
              "      <td>Cody Christensen</td>\n",
              "      <td>100.0</td>\n",
              "    </tr>\n",
              "    <tr>\n",
              "      <th>24385</th>\n",
              "      <td>Miss</td>\n",
              "      <td>Lizzie Dixon</td>\n",
              "      <td>100.0</td>\n",
              "    </tr>\n",
              "  </tbody>\n",
              "</table>\n",
              "</div>\n",
              "    <div class=\"colab-df-buttons\">\n",
              "\n",
              "  <div class=\"colab-df-container\">\n",
              "    <button class=\"colab-df-convert\" onclick=\"convertToInteractive('df-8d998239-bbf2-40ea-b04f-d1680fa2ba27')\"\n",
              "            title=\"Convert this dataframe to an interactive table.\"\n",
              "            style=\"display:none;\">\n",
              "\n",
              "  <svg xmlns=\"http://www.w3.org/2000/svg\" height=\"24px\" viewBox=\"0 -960 960 960\">\n",
              "    <path d=\"M120-120v-720h720v720H120Zm60-500h600v-160H180v160Zm220 220h160v-160H400v160Zm0 220h160v-160H400v160ZM180-400h160v-160H180v160Zm440 0h160v-160H620v160ZM180-180h160v-160H180v160Zm440 0h160v-160H620v160Z\"/>\n",
              "  </svg>\n",
              "    </button>\n",
              "\n",
              "  <style>\n",
              "    .colab-df-container {\n",
              "      display:flex;\n",
              "      gap: 12px;\n",
              "    }\n",
              "\n",
              "    .colab-df-convert {\n",
              "      background-color: #E8F0FE;\n",
              "      border: none;\n",
              "      border-radius: 50%;\n",
              "      cursor: pointer;\n",
              "      display: none;\n",
              "      fill: #1967D2;\n",
              "      height: 32px;\n",
              "      padding: 0 0 0 0;\n",
              "      width: 32px;\n",
              "    }\n",
              "\n",
              "    .colab-df-convert:hover {\n",
              "      background-color: #E2EBFA;\n",
              "      box-shadow: 0px 1px 2px rgba(60, 64, 67, 0.3), 0px 1px 3px 1px rgba(60, 64, 67, 0.15);\n",
              "      fill: #174EA6;\n",
              "    }\n",
              "\n",
              "    .colab-df-buttons div {\n",
              "      margin-bottom: 4px;\n",
              "    }\n",
              "\n",
              "    [theme=dark] .colab-df-convert {\n",
              "      background-color: #3B4455;\n",
              "      fill: #D2E3FC;\n",
              "    }\n",
              "\n",
              "    [theme=dark] .colab-df-convert:hover {\n",
              "      background-color: #434B5C;\n",
              "      box-shadow: 0px 1px 3px 1px rgba(0, 0, 0, 0.15);\n",
              "      filter: drop-shadow(0px 1px 2px rgba(0, 0, 0, 0.3));\n",
              "      fill: #FFFFFF;\n",
              "    }\n",
              "  </style>\n",
              "\n",
              "    <script>\n",
              "      const buttonEl =\n",
              "        document.querySelector('#df-8d998239-bbf2-40ea-b04f-d1680fa2ba27 button.colab-df-convert');\n",
              "      buttonEl.style.display =\n",
              "        google.colab.kernel.accessAllowed ? 'block' : 'none';\n",
              "\n",
              "      async function convertToInteractive(key) {\n",
              "        const element = document.querySelector('#df-8d998239-bbf2-40ea-b04f-d1680fa2ba27');\n",
              "        const dataTable =\n",
              "          await google.colab.kernel.invokeFunction('convertToInteractive',\n",
              "                                                    [key], {});\n",
              "        if (!dataTable) return;\n",
              "\n",
              "        const docLinkHtml = 'Like what you see? Visit the ' +\n",
              "          '<a target=\"_blank\" href=https://colab.research.google.com/notebooks/data_table.ipynb>data table notebook</a>'\n",
              "          + ' to learn more about interactive tables.';\n",
              "        element.innerHTML = '';\n",
              "        dataTable['output_type'] = 'display_data';\n",
              "        await google.colab.output.renderOutput(dataTable, element);\n",
              "        const docLink = document.createElement('div');\n",
              "        docLink.innerHTML = docLinkHtml;\n",
              "        element.appendChild(docLink);\n",
              "      }\n",
              "    </script>\n",
              "  </div>\n",
              "\n",
              "\n",
              "<div id=\"df-b6c1d4a9-ef27-4df5-8d0d-26e7482fbd48\">\n",
              "  <button class=\"colab-df-quickchart\" onclick=\"quickchart('df-b6c1d4a9-ef27-4df5-8d0d-26e7482fbd48')\"\n",
              "            title=\"Suggest charts\"\n",
              "            style=\"display:none;\">\n",
              "\n",
              "<svg xmlns=\"http://www.w3.org/2000/svg\" height=\"24px\"viewBox=\"0 0 24 24\"\n",
              "     width=\"24px\">\n",
              "    <g>\n",
              "        <path d=\"M19 3H5c-1.1 0-2 .9-2 2v14c0 1.1.9 2 2 2h14c1.1 0 2-.9 2-2V5c0-1.1-.9-2-2-2zM9 17H7v-7h2v7zm4 0h-2V7h2v10zm4 0h-2v-4h2v4z\"/>\n",
              "    </g>\n",
              "</svg>\n",
              "  </button>\n",
              "\n",
              "<style>\n",
              "  .colab-df-quickchart {\n",
              "      --bg-color: #E8F0FE;\n",
              "      --fill-color: #1967D2;\n",
              "      --hover-bg-color: #E2EBFA;\n",
              "      --hover-fill-color: #174EA6;\n",
              "      --disabled-fill-color: #AAA;\n",
              "      --disabled-bg-color: #DDD;\n",
              "  }\n",
              "\n",
              "  [theme=dark] .colab-df-quickchart {\n",
              "      --bg-color: #3B4455;\n",
              "      --fill-color: #D2E3FC;\n",
              "      --hover-bg-color: #434B5C;\n",
              "      --hover-fill-color: #FFFFFF;\n",
              "      --disabled-bg-color: #3B4455;\n",
              "      --disabled-fill-color: #666;\n",
              "  }\n",
              "\n",
              "  .colab-df-quickchart {\n",
              "    background-color: var(--bg-color);\n",
              "    border: none;\n",
              "    border-radius: 50%;\n",
              "    cursor: pointer;\n",
              "    display: none;\n",
              "    fill: var(--fill-color);\n",
              "    height: 32px;\n",
              "    padding: 0;\n",
              "    width: 32px;\n",
              "  }\n",
              "\n",
              "  .colab-df-quickchart:hover {\n",
              "    background-color: var(--hover-bg-color);\n",
              "    box-shadow: 0 1px 2px rgba(60, 64, 67, 0.3), 0 1px 3px 1px rgba(60, 64, 67, 0.15);\n",
              "    fill: var(--button-hover-fill-color);\n",
              "  }\n",
              "\n",
              "  .colab-df-quickchart-complete:disabled,\n",
              "  .colab-df-quickchart-complete:disabled:hover {\n",
              "    background-color: var(--disabled-bg-color);\n",
              "    fill: var(--disabled-fill-color);\n",
              "    box-shadow: none;\n",
              "  }\n",
              "\n",
              "  .colab-df-spinner {\n",
              "    border: 2px solid var(--fill-color);\n",
              "    border-color: transparent;\n",
              "    border-bottom-color: var(--fill-color);\n",
              "    animation:\n",
              "      spin 1s steps(1) infinite;\n",
              "  }\n",
              "\n",
              "  @keyframes spin {\n",
              "    0% {\n",
              "      border-color: transparent;\n",
              "      border-bottom-color: var(--fill-color);\n",
              "      border-left-color: var(--fill-color);\n",
              "    }\n",
              "    20% {\n",
              "      border-color: transparent;\n",
              "      border-left-color: var(--fill-color);\n",
              "      border-top-color: var(--fill-color);\n",
              "    }\n",
              "    30% {\n",
              "      border-color: transparent;\n",
              "      border-left-color: var(--fill-color);\n",
              "      border-top-color: var(--fill-color);\n",
              "      border-right-color: var(--fill-color);\n",
              "    }\n",
              "    40% {\n",
              "      border-color: transparent;\n",
              "      border-right-color: var(--fill-color);\n",
              "      border-top-color: var(--fill-color);\n",
              "    }\n",
              "    60% {\n",
              "      border-color: transparent;\n",
              "      border-right-color: var(--fill-color);\n",
              "    }\n",
              "    80% {\n",
              "      border-color: transparent;\n",
              "      border-right-color: var(--fill-color);\n",
              "      border-bottom-color: var(--fill-color);\n",
              "    }\n",
              "    90% {\n",
              "      border-color: transparent;\n",
              "      border-bottom-color: var(--fill-color);\n",
              "    }\n",
              "  }\n",
              "</style>\n",
              "\n",
              "  <script>\n",
              "    async function quickchart(key) {\n",
              "      const quickchartButtonEl =\n",
              "        document.querySelector('#' + key + ' button');\n",
              "      quickchartButtonEl.disabled = true;  // To prevent multiple clicks.\n",
              "      quickchartButtonEl.classList.add('colab-df-spinner');\n",
              "      try {\n",
              "        const charts = await google.colab.kernel.invokeFunction(\n",
              "            'suggestCharts', [key], {});\n",
              "      } catch (error) {\n",
              "        console.error('Error during call to suggestCharts:', error);\n",
              "      }\n",
              "      quickchartButtonEl.classList.remove('colab-df-spinner');\n",
              "      quickchartButtonEl.classList.add('colab-df-quickchart-complete');\n",
              "    }\n",
              "    (() => {\n",
              "      let quickchartButtonEl =\n",
              "        document.querySelector('#df-b6c1d4a9-ef27-4df5-8d0d-26e7482fbd48 button');\n",
              "      quickchartButtonEl.style.display =\n",
              "        google.colab.kernel.accessAllowed ? 'block' : 'none';\n",
              "    })();\n",
              "  </script>\n",
              "</div>\n",
              "\n",
              "    </div>\n",
              "  </div>\n"
            ],
            "application/vnd.google.colaboratory.intrinsic+json": {
              "type": "dataframe",
              "summary": "{\n  \"name\": \"dfm[dfm[\\\"price(CAD)\\\"] >= 100][[\\\"prefix\\\", \\\"Name\\\", \\\"price(CAD)\\\"]]\",\n  \"rows\": 3,\n  \"fields\": [\n    {\n      \"column\": \"prefix\",\n      \"properties\": {\n        \"dtype\": \"string\",\n        \"num_unique_values\": 2,\n        \"samples\": [\n          \"Miss\",\n          \"Mrs.\"\n        ],\n        \"semantic_type\": \"\",\n        \"description\": \"\"\n      }\n    },\n    {\n      \"column\": \"Name\",\n      \"properties\": {\n        \"dtype\": \"string\",\n        \"num_unique_values\": 3,\n        \"samples\": [\n          \"Gregory Brown\",\n          \"Cody Christensen\"\n        ],\n        \"semantic_type\": \"\",\n        \"description\": \"\"\n      }\n    },\n    {\n      \"column\": \"price(CAD)\",\n      \"properties\": {\n        \"dtype\": \"number\",\n        \"std\": 0.0,\n        \"min\": 100.0,\n        \"max\": 100.0,\n        \"num_unique_values\": 1,\n        \"samples\": [\n          100.0\n        ],\n        \"semantic_type\": \"\",\n        \"description\": \"\"\n      }\n    }\n  ]\n}"
            }
          },
          "metadata": {},
          "execution_count": 44
        }
      ],
      "source": [
        "dfm[dfm[\"price(CAD)\"] >= 100][[\"prefix\", \"Name\", \"price(CAD)\"]]"
      ]
    },
    {
      "cell_type": "code",
      "execution_count": null,
      "metadata": {
        "scrolled": true,
        "id": "J9cP5LYo4fk1",
        "outputId": "6702bd2c-6fbb-47e6-842e-a3ac5529437f",
        "collapsed": true
      },
      "outputs": [
        {
          "data": {
            "text/html": [
              "<div>\n",
              "<style>\n",
              "    .dataframe thead tr:only-child th {\n",
              "        text-align: right;\n",
              "    }\n",
              "\n",
              "    .dataframe thead th {\n",
              "        text-align: left;\n",
              "    }\n",
              "\n",
              "    .dataframe tbody tr th {\n",
              "        vertical-align: top;\n",
              "    }\n",
              "</style>\n",
              "<table border=\"1\" class=\"dataframe\">\n",
              "  <thead>\n",
              "    <tr style=\"text-align: right;\">\n",
              "      <th></th>\n",
              "      <th>prefix</th>\n",
              "      <th>first</th>\n",
              "      <th>last</th>\n",
              "      <th>email</th>\n",
              "      <th>gender</th>\n",
              "      <th>age</th>\n",
              "      <th>company</th>\n",
              "      <th>profession</th>\n",
              "      <th>phone</th>\n",
              "      <th>postal</th>\n",
              "      <th>province</th>\n",
              "      <th>cc_no</th>\n",
              "      <th>cc_exp</th>\n",
              "      <th>cc_type</th>\n",
              "      <th>price(CAD)</th>\n",
              "      <th>fav_color</th>\n",
              "      <th>ip</th>\n",
              "      <th>weekday</th>\n",
              "      <th>ampm</th>\n",
              "      <th>date</th>\n",
              "    </tr>\n",
              "  </thead>\n",
              "  <tbody>\n",
              "    <tr>\n",
              "      <th>76</th>\n",
              "      <td>Mrs.</td>\n",
              "      <td>Gregory</td>\n",
              "      <td>Brown</td>\n",
              "      <td>hav@jek.gs</td>\n",
              "      <td>Female</td>\n",
              "      <td>31</td>\n",
              "      <td>E*Trade Group, Inc.</td>\n",
              "      <td>Novelist</td>\n",
              "      <td>(625) 537-8923</td>\n",
              "      <td>X3S 4Q2</td>\n",
              "      <td>PE</td>\n",
              "      <td>6010000000000000</td>\n",
              "      <td>04/2018</td>\n",
              "      <td>Visa</td>\n",
              "      <td>100.0</td>\n",
              "      <td>Green</td>\n",
              "      <td>212.100.18.95</td>\n",
              "      <td>Monday</td>\n",
              "      <td>am</td>\n",
              "      <td>10/23/2063</td>\n",
              "    </tr>\n",
              "    <tr>\n",
              "      <th>21093</th>\n",
              "      <td>Mrs.</td>\n",
              "      <td>Cody</td>\n",
              "      <td>Christensen</td>\n",
              "      <td>get@jovu.ag</td>\n",
              "      <td>Male</td>\n",
              "      <td>28</td>\n",
              "      <td>National City Corp.</td>\n",
              "      <td>Hospital Administrator</td>\n",
              "      <td>(261) 737-3292</td>\n",
              "      <td>X0S 1O5</td>\n",
              "      <td>PE</td>\n",
              "      <td>201000000000000</td>\n",
              "      <td>03/2024</td>\n",
              "      <td>JCB</td>\n",
              "      <td>100.0</td>\n",
              "      <td>Green</td>\n",
              "      <td>168.48.19.165</td>\n",
              "      <td>Wednesday</td>\n",
              "      <td>pm</td>\n",
              "      <td>03/28/1955</td>\n",
              "    </tr>\n",
              "    <tr>\n",
              "      <th>24385</th>\n",
              "      <td>Miss</td>\n",
              "      <td>Lizzie</td>\n",
              "      <td>Dixon</td>\n",
              "      <td>goh@tuwjaz.gd</td>\n",
              "      <td>Female</td>\n",
              "      <td>38</td>\n",
              "      <td>FleetBoston Financial Co.</td>\n",
              "      <td>Compensation Analyst</td>\n",
              "      <td>(989) 239-1752</td>\n",
              "      <td>V8X 9V6</td>\n",
              "      <td>NB</td>\n",
              "      <td>6300000000000000</td>\n",
              "      <td>07/2019</td>\n",
              "      <td>Bankcard</td>\n",
              "      <td>100.0</td>\n",
              "      <td>Blue</td>\n",
              "      <td>140.87.99.78</td>\n",
              "      <td>Saturday</td>\n",
              "      <td>pm</td>\n",
              "      <td>03/03/1983</td>\n",
              "    </tr>\n",
              "  </tbody>\n",
              "</table>\n",
              "</div>"
            ],
            "text/plain": [
              "      prefix    first         last          email  gender  age  \\\n",
              "76      Mrs.  Gregory        Brown     hav@jek.gs  Female   31   \n",
              "21093   Mrs.     Cody  Christensen    get@jovu.ag    Male   28   \n",
              "24385   Miss   Lizzie        Dixon  goh@tuwjaz.gd  Female   38   \n",
              "\n",
              "                         company              profession           phone  \\\n",
              "76           E*Trade Group, Inc.                Novelist  (625) 537-8923   \n",
              "21093        National City Corp.  Hospital Administrator  (261) 737-3292   \n",
              "24385  FleetBoston Financial Co.    Compensation Analyst  (989) 239-1752   \n",
              "\n",
              "        postal province             cc_no   cc_exp   cc_type  price(CAD)  \\\n",
              "76     X3S 4Q2       PE  6010000000000000  04/2018      Visa       100.0   \n",
              "21093  X0S 1O5       PE   201000000000000  03/2024       JCB       100.0   \n",
              "24385  V8X 9V6       NB  6300000000000000  07/2019  Bankcard       100.0   \n",
              "\n",
              "      fav_color             ip    weekday ampm        date  \n",
              "76        Green  212.100.18.95     Monday   am  10/23/2063  \n",
              "21093     Green  168.48.19.165  Wednesday   pm  03/28/1955  \n",
              "24385      Blue   140.87.99.78   Saturday   pm  03/03/1983  "
            ]
          },
          "execution_count": 14,
          "metadata": {},
          "output_type": "execute_result"
        }
      ],
      "source": []
    },
    {
      "cell_type": "markdown",
      "metadata": {
        "collapsed": true,
        "id": "hvUqOHsj4fk1"
      },
      "source": [
        "**13. How many emails are associated with this credit card number '5020000000000230'?**"
      ]
    },
    {
      "cell_type": "code",
      "execution_count": null,
      "metadata": {
        "id": "WxzZDzMO4fk2",
        "colab": {
          "base_uri": "https://localhost:8080/"
        },
        "outputId": "5c019bf9-1e61-4314-aaa6-60a5ba086a74"
      },
      "outputs": [
        {
          "output_type": "stream",
          "name": "stdout",
          "text": [
            "  prefix               Name            email             cc_no\n",
            "0    Dr.         Ray Morton  sebvajom@kol.km  5020000000000230\n",
            "1   Miss  Claudia Rodriquez    acu@jatsot.ug  5020000000000230\n",
            "\n",
            " The number of emails associated with '5020000000000230' is  2\n"
          ]
        }
      ],
      "source": [
        "mail_cc = dfm[dfm[\"cc_no\"] == 5020000000000230][[\"prefix\", \"Name\", \"email\",\"cc_no\"]]\n",
        "print(mail_cc)\n",
        "\n",
        "print(\"\\n The number of emails associated with '5020000000000230' is \", mail_cc.shape[0])"
      ]
    },
    {
      "cell_type": "code",
      "execution_count": null,
      "metadata": {
        "id": "vsU-caoS4fk3",
        "outputId": "be241c09-cd70-4491-fefe-cc2711bb1f4a"
      },
      "outputs": [
        {
          "data": {
            "text/plain": [
              "0    sebvajom@kol.km\n",
              "1      acu@jatsot.ug\n",
              "Name: email, dtype: object"
            ]
          },
          "execution_count": 15,
          "metadata": {},
          "output_type": "execute_result"
        }
      ],
      "source": []
    },
    {
      "cell_type": "markdown",
      "metadata": {
        "id": "mTcPoi9H4fk3"
      },
      "source": [
        "**14. We need to send new cards to the customers well before the expire, how many cards are expiring in 2019?**<br>\n",
        "*Use `sum()` and `count()` and see the difference in their use :)*"
      ]
    },
    {
      "cell_type": "code",
      "execution_count": null,
      "metadata": {
        "collapsed": true,
        "id": "-9MDuhd44fk4",
        "colab": {
          "base_uri": "https://localhost:8080/",
          "height": 125
        },
        "outputId": "bae0ac24-5e4b-4a70-b816-a54b146aa737"
      },
      "outputs": [
        {
          "output_type": "execute_result",
          "data": {
            "text/plain": [
              "'12/201907/201902/201910/201911/201902/201905/201909/201903/201906/201907/201903/201904/201910/201907/201903/201903/201912/201908/201907/201910/201904/201903/201903/201907/201911/201906/201904/201910/201902/201907/201909/201912/201906/201912/201901/201906/201909/201903/201901/201907/201903/201904/201904/201911/201910/201906/201909/201904/201905/201907/201911/201901/201909/201902/201905/201909/201912/201908/201902/201910/201906/201901/201908/201901/201910/201912/201910/201911/201908/201908/201906/201907/201911/201903/201901/201904/201902/201905/201903/201901/201903/201906/201910/201905/201903/201904/201904/201906/201910/201902/201902/201910/201907/201912/201902/201910/201906/201905/201905/201905/201912/201904/201912/201909/201910/201901/201906/201902/201904/201904/201908/201911/201904/201912/201909/201904/201906/201901/201901/201909/201903/201907/201903/201902/201912/201910/201910/201902/201908/201909/201912/201902/201912/201909/201901/201912/201906/201902/201903/201903/201910/201907/201902/201904/201909/201910/201903/201910/201910/201910/201909/201905/201903/201911/201910/201905/201903/201911/201907/201905/201906/201903/201910/201912/201908/201904/201908/201906/201909/201903/201906/201902/201911/201905/201904/201912/201911/201910/201905/201902/201912/201911/201912/201904/201906/201910/201904/201908/201902/201902/201903/201909/201908/201908/201906/201904/201910/201909/201907/201906/201906/201905/201901/201902/201902/201911/201904/201905/201905/201903/201905/201905/201902/201906/201911/201903/201903/201905/201905/201906/201901/201910/201903/201903/201904/201907/201907/201907/201906/201904/201903/201908/201906/201907/201903/201904/201910/201909/201911/201911/201902/201910/201909/201902/201912/201912/201902/201905/201910/201911/201911/201911/201912/201901/201911/201901/201907/201902/201912/201902/201901/201908/201906/201912/201902/201905/201906/201912/201901/201906/201901/201908/201909/201903/201901/201910/201904/201909/201911/201909/201912/201907/201902/201901/201912/201906/201903/201905/201904/201908/201908/201906/201909/201908/201904/201901/201903/201909/201907/201907/201908/201912/201904/201901/201901/201908/201902/201906/201905/201902/201902/201905/201903/201902/201901/201906/201901/201904/201910/201902/201904/201903/201902/201911/201908/201910/201910/201905/201905/201907/201906/201902/201901/201905/201912/201909/201910/201905/201912/201910/201912/201912/201906/201907/201911/201912/201910/201912/201911/201903/201910/201902/201910/201902/201905/201905/201909/201904/201912/201908/201902/201906/201907/201901/201907/201909/201911/201908/201907/201912/201909/201907/201904/201901/201905/201902/201902/201907/201901/201903/201905/201903/201909/201906/201908/201905/201912/201907/201904/201901/201902/201911/201901/201908/201905/201904/201909/201903/201901/201909/201903/201911/201910/201903/201908/201911/201903/201901/201907/201902/201910/201911/201910/201908/201906/201908/201912/201906/201911/201902/201905/201902/201904/201906/201902/201903/201912/201904/201901/201904/201909/201912/201910/201904/201905/201902/201907/201902/201912/201906/201909/201904/201901/201908/201906/201912/201908/201907/201902/201901/201901/201902/201902/201906/201911/201909/201901/201903/201904/201908/201906/201901/201903/201906/201904/201909/201908/201906/201910/201906/201904/201904/201909/201907/201912/201902/201909/201906/201905/201911/201910/201905/201909/201912/201907/201912/201907/201903/201905/201910/201911/201910/201907/201904/201908/201901/201910/201904/201909/201902/201908/201910/201908/201905/201911/201907/201905/201908/201904/201908/201906/201905/201906/201907/201906/201908/201906/201906/201910/201904/201903/201910/201903/201911/201903/201902/201908/201905/201910/201910/201906/201905/201905/201912/201905/201901/201908/201912/201904/201902/201905/201910/201910/201911/201903/201903/201903/201906/201904/201901/201912/201903/201912/201908/201904/201909/201903/201910/201908/201902/201911/201909/201906/201909/201901/201902/201902/201908/201902/201901/201911/201910/201912/201911/201901/201901/201912/201908/201912/201908/201909/201910/201901/201911/201908/201904/201905/201909/201905/201902/201904/201908/201902/201903/201904/201903/201910/201902/201910/201911/201903/201901/201906/201901/201906/201912/201912/201905/201908/201907/201903/201904/201903/201910/201901/201912/201905/201904/201912/201910/201906/201907/201904/201912/201904/201910/201902/201907/201903/201908/201905/201907/201904/201904/201902/201911/201912/201911/201903/201902/201902/201910/201910/201909/201905/201910/201907/201910/201911/201904/201912/201911/201901/201908/201906/201909/201904/201905/201904/201912/201902/201906/201912/201902/201906/201904/201902/201901/201911/201902/201909/201902/201911/201906/201905/201904/201909/201910/201908/201909/201901/201909/201906/201911/201911/201901/201912/201905/201906/201906/201901/201909/201905/201910/201911/201901/201904/201902/201901/201908/201904/201909/201909/201903/201904/201912/201910/201903/201905/201906/201904/201902/201912/201911/201901/201902/201902/201904/201909/201908/201901/201903/201902/201903/201903/201909/201904/201902/201901/201907/201911/201905/201901/201912/201908/201901/201901/201902/201904/201902/201911/201902/201911/201909/201912/201908/201907/201910/201902/201911/201911/201909/201907/201908/201901/201907/201902/201910/201905/201906/201906/201911/201903/201905/201902/201901/201905/201911/201906/201908/201912/201903/201910/201906/201906/201911/201911/201903/201909/201904/201901/201902/201902/201905/201905/201910/201905/201903/201911/201911/201903/201909/201910/201906/201904/201910/201904/201905/201906/201905/201911/201909/201901/201904/201901/201907/201912/201906/201911/201910/201902/201905/201911/201910/201910/201902/201901/201906/201910/201902/201910/201901/201906/201903/201901/201901/201905/201904/201912/201911/201909/201901/201910/201907/201911/201909/201909/201910/201904/201904/201904/201911/201910/201910/201912/201902/201909/201906/201912/201906/201909/201911/201911/201912/201912/201904/201910/201905/201906/201903/201903/201906/201903/201901/201911/201909/201902/201904/201903/201907/201911/201910/201903/201904/201906/201911/201908/201905/201906/201905/201906/201902/201904/201910/201904/201902/201904/201904/201912/201912/201903/201911/201906/201901/201911/201907/201908/201908/201905/201912/201904/201912/201905/201911/201901/201912/201902/201910/201904/201904/201907/201910/201901/201912/201905/201903/201909/201902/201910/201906/201910/201908/201904/201909/201902/201908/201907/201912/201902/201904/201911/201903/201912/201911/201911/201909/201907/201912/201904/201905/201909/201904/201909/201901/201903/201905/201909/201901/201910/201910/201907/201907/201903/201901/201912/201910/201902/201902/201912/201904/201908/201909/201906/201904/201901/201907/201904/201902/201903/201907/201902/201912/201908/201904/201905/201904/201910/201903/201901/201912/201910/201906/201910/201909/201902/201904/201904/201905/201904/201905/201904/201903/201908/201908/201901/201911/201910/201903/201906/201905/201912/201905/201911/201909/201901/201909/201906/201905/201907/201907/201906/201910/201912/201907/201902/201907/201901/201912/201906/201911/201903/201902/201905/201909/201902/201909/201911/201908/201911/201910/201911/201904/201901/201911/201908/201906/201901/201901/201902/201908/201901/201911/201912/201905/201904/201910/201908/201905/201904/201904/201903/201904/201906/201909/201902/201906/201901/201901/201907/201910/201906/201911/201908/201911/201909/201908/201907/201912/201910/201905/201907/201901/201905/201901/201902/201907/201907/201912/201903/201910/201908/201906/201905/201910/201901/201903/201901/201901/201901/201907/201910/201901/201902/201908/201910/201904/201909/201902/201912/201906/201908/201911/201910/201909/201901/201905/201902/201911/201904/201907/201911/201912/201903/201911/201908/201901/201910/201901/201912/201909/201911/201905/201901/201903/201905/201903/201910/201909/201909/201903/201909/201909/201901/201908/201911/201902/201907/201908/201902/201902/201912/201901/201909/201910/201904/201905/201902/201903/201903/201911/201908/201906/201907/201901/201909/201902/201907/201907/201905/201906/201903/201905/201905/201912/201906/201901/201909/201907/201904/201907/201907/201901/201905/201903/201910/201903/201909/201910/201908/201904/201903/201910/201902/201902/201911/201912/201907/201909/201911/201908/201904/201906/201905/201908/201909/201906/201911/201910/201910/201909/201905/201905/201909/201909/201912/201911/201912/201908/201907/201905/201912/201911/201908/201906/201903/201911/201905/201908/201906/201901/201905/201901/201909/201909/201912/201910/201909/201902/201905/201903/201910/201912/201905/201901/201910/201911/201906/201903/201904/201912/201911/201909/201909/201901/201909/201906/201906/201902/201910/201907/201911/201901/201906/201901/201906/201906/201912/201911/201907/201901/201905/201901/201906/201911/201907/201905/201908/201907/201901/201907/201912/201906/201903/201909/201904/201910/201908/201908/201909/201903/201908/201906/201912/201908/201902/201909/201902/201912/201901/201912/201910/201907/201909/201903/201909/201907/201910/201911/201906/201912/201912/201901/201912/201907/201904/201908/201901/201907/201908/201909/201908/201901/201901/201912/201903/201901/201902/201911/201910/201906/201901/201904/201912/201903/201912/201910/201909/201905/201905/201904/201910/201911/201912/201907/201912/201906/201902/201904/201910/201912/201906/201904/201910/201903/201903/201910/201905/201912/201905/201911/201906/201901/201904/201908/201909/201901/201902/201901/201911/201911/201907/201906/201904/201906/201910/201907/201904/201911/201901/201902/201905/201905/201902/201909/201904/201907/201908/201911/201910/201902/201901/201907/201909/201908/201910/201909/201905/201909/201902/201912/201903/201912/201912/201908/201906/201901/201904/201910/201910/201902/201909/201907/201912/201907/201903/201907/201902/201912/201902/201907/201910/201906/201901/201901/201907/201907/201911/201910/201908/201911/201912/201905/201908/201906/201906/201907/201906/201912/201903/201910/201911/201908/201903/201906/201905/201910/201905/201911/201911/201903/201901/201909/201908/201908/201911/201911/201912/201905/201908/201908/201910/201908/201909/201906/201903/201906/201908/201906/201912/201904/201904/201911/201903/201903/201910/201902/201901/201911/201902/201912/201904/201907/201909/201906/201903/201909/201902/201907/201903/201905/201911/201912/201912/201907/201911/201911/201912/201904/201910/201910/201909/201905/201902/201902/201901/201903/201905/201903/201906/201903/201909/201909/201901/201902/201908/201906/201908/201901/201908/201907/201906/201904/201912/201904/201906/201904/201901/201904/201903/201902/201905/201912/201910/201910/201902/201901/201904/201901/201910/201902/201906/201905/201904/201907/201909/201903/201904/201902/201904/201912/201903/201903/201901/201909/201901/201912/201906/201908/201912/201902/201907/201911/201901/201910/201908/201905/201906/201904/201904/201905/201907/201910/201903/201902/201906/201912/201908/201909/201910/201910/201903/201902/201907/201903/201910/201902/201909/201910/201905/201909/201903/201909/201910/201911/201901/201902/201902/201906/201901/201909/201908/201908/201904/201910/201901/201912/201909/201902/201911/201904/201907/201902/201902/201905/201909/201906/201901/201908/201907/201908/201907/201912/201908/201903/201909/201904/201903/201909/201907/201911/201903/201908/201908/201901/201910/201908/201910/201909/201903/201903/201909/201910/201904/201910/201907/201902/201912/201912/201908/201902/201903/201908/201908/201902/201908/201905/201912/201907/201910/201909/201902/201908/201908/201903/201909/201909/201905/201903/201910/201905/201908/201912/201907/201901/201905/201911/201912/201911/201909/201903/201911/201905/201907/201902/201909/201912/201912/201905/201911/201905/201911/201904/201902/201901/201910/201908/201904/201912/201906/201908/201911/201907/201912/201907/201911/201912/201902/201906/201911/201903/201902/201911/201907/201903/201901/201903/201908/201906/201907/201904/201907/201912/201907/201907/201912/201904/201902/201909/201906/201911/201910/201901/201907/201908/201909/201905/201901/201902/201903/201908/201903/201910/201909/201911/201903/201912/201905/201905/201908/201910/201909/201902/201910/201911/201907/201907/201910/201909/201902/201905/201903/201911/201901/201912/201902/201908/201909/201904/201906/201906/201911/201907/201903/201905/201907/201912/201909/201912/201903/201911/201901/201905/201901/201903/201904/201908/201910/201910/201911/201906/201912/201907/201903/201911/201909/201908/201905/201901/201904/201904/201910/201911/201902/201910/201909/201907/201902/201904/201908/201901/201904/201912/201901/201912/201903/201910/201905/201901/201904/201905/201904/201904/201903/201909/201902/201911/201911/201910/201906/201910/201903/201907/201903/201905/201907/201909/201905/201905/201905/201901/201907/201906/201903/201908/201907/201904/201902/201901/201909/201910/201901/201909/201902/201907/201902/201904/201909/201906/201911/201909/201903/201909/201904/201904/201905/201903/201908/201902/201905/201912/201910/201911/201904/201910/201905/201912/201912/201906/201910/201907/201911/201906/201910/201906/201904/201903/201901/201902/201902/201908/201902/201906/201901/201909/201903/201908/201909/201902/201912/201905/201903/201903/201909/201904/201909/201908/201912/201907/201905/201903/201903/201907/201908/201906/201910/201912/201901/201905/201902/201912/201912/201911/201906/201902/201908/201902/201912/201903/201901/201904/201912/201904/201909/201912/201905/201912/201906/201907/201910/201906/201901/201910/201908/201903/201912/201908/201901/201907/201908/201910/201910/201906/201909/201910/201908/201906/201903/201902/201906/201907/201903/201912/201907/201912/201905/201910/201907/201908/201901/201911/201908/201902/201911/201905/201910/201904/201903/201908/201910/201903/201905/201910/201906/201911/201909/201901/201902/201905/201906/201906/201903/201901/201911/201910/201903/201901/201903/201901/201902/201910/201907/201906/201905/201905/201908/201911/201903/201912/201903/201908/201904/201912/201910/201905/201901/201905/201910/201902/201906/201905/201905/201911/201903/201908/201903/201910/201908/201909/201905/201904/201908/201910/201912/201912/201906/201905/201903/201905/201907/201904/201910/201902/201901/201908/201909/201912/201905/201902/201905/201904/201908/201909/201910/201909/201909/201910/201902/201907/201903/201903/201911/201904/201905/201904/201904/201903/201909/201902/201905/201910/201903/201911/201906/201907/201903/201907/201907/201909/201910/201901/201901/201904/201910/201911/201905/201903/201911/201903/201901/201907/201908/201911/201909/201902/201907/201912/201911/201907/201908/201901/201905/201901/201905/201902/201908/201912/201902/201908/201912/201908/201906/201901/201908/201912/201906/201903/201908/201909/201912/201908/201904/201904/201910/201908/201903/201905/201906/201909/201907/201902/201902/201910/201901/201905/201911/201910/201911/201906/201910/201905/201905/201910/201901/201911/201912/201912/201902/201910/201908/201910/201901/201912/201911/201910/201907/201908/201910/201907/201902/201907/201908/201902/201910/201908/201901/201907/201908/201911/201907/201904/201901/201902/201912/201903/201902/201902/201907/201902/201902/201911/201912/201907/201902/201909/201904/201910/201904/201910/201905/201910/201907/201903/201907/201910/201907/201905/201906/201907/201905/201902/201907/201908/201907/201904/201901/201902/201906/201910/201908/201907/201911/201906/201908/201904/201903/201901/201902/201908/201910/201909/201904/201912/201903/201907/201904/201903/201907/201903/201905/201903/201905/201901/201903/201906/201908/201912/201909/201901/201902/201910/201912/201911/201905/201902/201902/201911/201901/201912/201902/201906/201908/201909/201908/201908/201904/201906/201905/201906/201907/201908/201906/201903/201912/201909/201904/201910/201911/201906/201908/201907/201908/201907/201909/201905/201907/201908/201911/201907/201908/201903/201901/201903/201907/201907/201905/201901/201909/201905/201910/201912/201911/201907/201911/201905/201906/201909/201909/201905/201912/201910/201902/201903/201903/201901/201901/201901/201912/201910/201907/201908/201911/201904/201903/201901/201904/201909/201901/201912/201909/201904/201902/201909/201905/201906/201910/201908/201905/201910/201901/201906/201910/201911/201902/201903/201908/201903/201903/201906/201909/201901/201908/201910/201905/201905/201903/201901/201912/201909/201907/201910/201907/201902/201910/201910/201911/201906/201903/201910/201905/201911/201912/201904/201901/201908/201910/201902/201903/201906/201904/201911/201912/201907/201903/201907/201911/201911/201908/201907/201907/201901/201910/201902/201909/201910/201906/201908/201905/201908/201910/201911/201909/201911/201909/201905/201903/201903/201910/201910/201906/201907/201910/201902/201910/201911/201909/201905/201901/201910/201910/201910/201905/201912/201904/201905/201904/201908/201905/201909/201907/201903/201910/201912/201907/201904/201901/201909/201905/201903/201905/201901/201902/201908/201912/201911/201904/201907/201912/201908/201908/201902/201902/201903/201910/201907/201908/201907/201904/201904/201909/201912/201901/201904/201911/201901/201901/201908/201909/201905/201902/201906/201906/201909/201903/201908/201912/201901/201909/201903/201910/201904/201903/201901/201912/201909/201902/201910/201908/201902/201906/201902/201901/201912/201908/201906/201901/201906/201903/201911/201903/201904/201908/201907/201904/201911/201902/201911/201908/201904/201902/201912/201908/201911/201906/201904/201908/201903/201912/201908/201903/201905/201906/201908/201905/201901/201909/201903/201902/201909/201912/201903/201904/201906/201909/201901/201905/201907/201910/201907/201904/201907/201901/201908/201908/201908/201911/201903/201902/201909/201909/201910/201911/201910/201906/201901/201912/201912/201909/201905/201910/201901/201908/201910/201910/201910/201912/201904/201911/201901/201902/201908/201911/201911/201902/201912/201901/201912/201907/201902/201907/201910/201912/201903/201910/201908/201912/201906/201905/201904/201906/201903/201905/201906/201903/201909/201912/201909/201903/201912/201911/201907/201903/201902/201911/201901/201907/201912/201904/201908/201907/201908/201902/201904/201902/201912/201911/201910/201903/201910/201902/201905/201902/201909/201912/201903/201904/201912/201902/201905/201902/201905/201908/201911/201912/201901/201911/201906/201905/201906/201906/201907/201903/201903/201909/201901/201908/201905/201901/201901/201912/201902/201907/201903/201903/201909/201905/201908/201912/201901/201904/201907/201904/201904/201909/201905/201903/201910/201908/201909/201905/201908/201903/201911/201909/201912/201901/201902/201905/201904/201912/201911/201910/201904/201905/201904/201903/201907/201901/201912/201901/201906/201909/201908/201903/201908/201911/201904/201908/201912/201905/201906/201910/201909/201903/2019'"
            ],
            "application/vnd.google.colaboratory.intrinsic+json": {
              "type": "string"
            }
          },
          "metadata": {},
          "execution_count": 72
        }
      ],
      "source": [
        "# Using sum()\n",
        "dfm[dfm[\"cc_exp\"].apply(lambda x: x[-2:]) == '19'][\"cc_exp\"].sum()   # x[-2:] indicates the last 2 digits of the year"
      ]
    },
    {
      "cell_type": "code",
      "source": [
        "# Using count()\n",
        "dfm[dfm[\"cc_exp\"].apply(lambda x: x[-2:]) == '19'][\"cc_exp\"].count()"
      ],
      "metadata": {
        "colab": {
          "base_uri": "https://localhost:8080/"
        },
        "id": "0-TQgXAranMl",
        "outputId": "6b0b893a-3e09-41e0-bb5b-87195244a787"
      },
      "execution_count": null,
      "outputs": [
        {
          "output_type": "execute_result",
          "data": {
            "text/plain": [
              "2684"
            ]
          },
          "metadata": {},
          "execution_count": 71
        }
      ]
    },
    {
      "cell_type": "markdown",
      "source": [
        "The difference is:  \n",
        "sum() concatenates all matching values into a single string (since cc_exp is likely a string column).  \n",
        "count() returns the number of matching entries (how many times cc_exp ends in '19')."
      ],
      "metadata": {
        "id": "cYoJxMdT_WKV"
      }
    },
    {
      "cell_type": "code",
      "execution_count": null,
      "metadata": {
        "id": "HvdLX9TQ4fk4",
        "outputId": "6eb0c185-401d-445b-eabb-27980e883ba5",
        "collapsed": true
      },
      "outputs": [
        {
          "data": {
            "text/plain": [
              "2684"
            ]
          },
          "execution_count": 16,
          "metadata": {},
          "output_type": "execute_result"
        }
      ],
      "source": [
        "#cust[cust['cc_exp'].apply(lambda x: x[5:]) == '19'].count()\n"
      ]
    },
    {
      "cell_type": "markdown",
      "metadata": {
        "collapsed": true,
        "id": "2Sl7nGjI4fk4"
      },
      "source": [
        "**15. How many people use Visa as their Credit Card Provider?**"
      ]
    },
    {
      "cell_type": "code",
      "execution_count": null,
      "metadata": {
        "id": "hxH7Jak14fk4",
        "colab": {
          "base_uri": "https://localhost:8080/"
        },
        "outputId": "31165735-2fc8-4beb-bbea-5491946a6f78"
      },
      "outputs": [
        {
          "output_type": "stream",
          "name": "stdout",
          "text": [
            "\n",
            "Number of people using Visa: 1721\n"
          ]
        }
      ],
      "source": [
        "# Counting credit card types that are exclusively 'Visa'\n",
        "visa_num = dfm[dfm[\"cc_type\"] == \"Visa\"][\"cc_type\"].count()\n",
        "print(\"\\nNumber of people using Visa:\", visa_num)"
      ]
    },
    {
      "cell_type": "code",
      "source": [
        "# Checking for possible types of Visa cards\n",
        "visa_types = dfm[dfm[\"cc_type\"].str.contains(\"visa\", case=False)][\"cc_type\"].unique()\n",
        "print(\"Types of Visa credit cards:\", visa_types)"
      ],
      "metadata": {
        "colab": {
          "base_uri": "https://localhost:8080/"
        },
        "id": "4YA-cEFICoPN",
        "outputId": "8edaf154-ba3f-49d8-b78b-854afd5b9712"
      },
      "execution_count": null,
      "outputs": [
        {
          "output_type": "stream",
          "name": "stdout",
          "text": [
            "Types of Visa credit cards: ['Visa' 'Visa Electron']\n"
          ]
        }
      ]
    },
    {
      "cell_type": "code",
      "source": [
        "# Counting credit card types that are 'Visa' or 'Visa Electron'\n",
        "visa_num2 = dfm[\"cc_type\"].str.contains(\"visa\", case=False).sum()\n",
        "print(\"\\nNumber of people using Visa or Visa Electron:\", visa_num2)"
      ],
      "metadata": {
        "colab": {
          "base_uri": "https://localhost:8080/"
        },
        "id": "3WwibHVCEtMw",
        "outputId": "ac1a94f1-0f5a-467a-e026-aaab45ff570c"
      },
      "execution_count": 8,
      "outputs": [
        {
          "output_type": "stream",
          "name": "stdout",
          "text": [
            "\n",
            "Number of people using Visa or Visa Electron: 3536\n"
          ]
        }
      ]
    },
    {
      "cell_type": "code",
      "execution_count": null,
      "metadata": {
        "id": "ITTVqpeq4fk6",
        "outputId": "b04d0689-6d78-4789-ef9d-3643216575e0"
      },
      "outputs": [
        {
          "data": {
            "text/plain": [
              "1721"
            ]
          },
          "execution_count": 17,
          "metadata": {},
          "output_type": "execute_result"
        }
      ],
      "source": []
    },
    {
      "cell_type": "markdown",
      "metadata": {
        "collapsed": true,
        "id": "lwupmUSb4fk6"
      },
      "source": [
        "**16. Can you find the customer who spent 100 CAD using Visa?**"
      ]
    },
    {
      "cell_type": "code",
      "execution_count": null,
      "metadata": {
        "id": "_WzlorJu4fk6",
        "colab": {
          "base_uri": "https://localhost:8080/",
          "height": 81
        },
        "outputId": "91d942e3-b88f-4429-9a90-61dabfe2f92b"
      },
      "outputs": [
        {
          "output_type": "execute_result",
          "data": {
            "text/plain": [
              "   prefix           Name cc_type  price(CAD)\n",
              "76   Mrs.  Gregory Brown    Visa       100.0"
            ],
            "text/html": [
              "\n",
              "  <div id=\"df-8f4731ad-e58a-4590-b5f6-9d79dfaf3c47\" class=\"colab-df-container\">\n",
              "    <div>\n",
              "<style scoped>\n",
              "    .dataframe tbody tr th:only-of-type {\n",
              "        vertical-align: middle;\n",
              "    }\n",
              "\n",
              "    .dataframe tbody tr th {\n",
              "        vertical-align: top;\n",
              "    }\n",
              "\n",
              "    .dataframe thead th {\n",
              "        text-align: right;\n",
              "    }\n",
              "</style>\n",
              "<table border=\"1\" class=\"dataframe\">\n",
              "  <thead>\n",
              "    <tr style=\"text-align: right;\">\n",
              "      <th></th>\n",
              "      <th>prefix</th>\n",
              "      <th>Name</th>\n",
              "      <th>cc_type</th>\n",
              "      <th>price(CAD)</th>\n",
              "    </tr>\n",
              "  </thead>\n",
              "  <tbody>\n",
              "    <tr>\n",
              "      <th>76</th>\n",
              "      <td>Mrs.</td>\n",
              "      <td>Gregory Brown</td>\n",
              "      <td>Visa</td>\n",
              "      <td>100.0</td>\n",
              "    </tr>\n",
              "  </tbody>\n",
              "</table>\n",
              "</div>\n",
              "    <div class=\"colab-df-buttons\">\n",
              "\n",
              "  <div class=\"colab-df-container\">\n",
              "    <button class=\"colab-df-convert\" onclick=\"convertToInteractive('df-8f4731ad-e58a-4590-b5f6-9d79dfaf3c47')\"\n",
              "            title=\"Convert this dataframe to an interactive table.\"\n",
              "            style=\"display:none;\">\n",
              "\n",
              "  <svg xmlns=\"http://www.w3.org/2000/svg\" height=\"24px\" viewBox=\"0 -960 960 960\">\n",
              "    <path d=\"M120-120v-720h720v720H120Zm60-500h600v-160H180v160Zm220 220h160v-160H400v160Zm0 220h160v-160H400v160ZM180-400h160v-160H180v160Zm440 0h160v-160H620v160ZM180-180h160v-160H180v160Zm440 0h160v-160H620v160Z\"/>\n",
              "  </svg>\n",
              "    </button>\n",
              "\n",
              "  <style>\n",
              "    .colab-df-container {\n",
              "      display:flex;\n",
              "      gap: 12px;\n",
              "    }\n",
              "\n",
              "    .colab-df-convert {\n",
              "      background-color: #E8F0FE;\n",
              "      border: none;\n",
              "      border-radius: 50%;\n",
              "      cursor: pointer;\n",
              "      display: none;\n",
              "      fill: #1967D2;\n",
              "      height: 32px;\n",
              "      padding: 0 0 0 0;\n",
              "      width: 32px;\n",
              "    }\n",
              "\n",
              "    .colab-df-convert:hover {\n",
              "      background-color: #E2EBFA;\n",
              "      box-shadow: 0px 1px 2px rgba(60, 64, 67, 0.3), 0px 1px 3px 1px rgba(60, 64, 67, 0.15);\n",
              "      fill: #174EA6;\n",
              "    }\n",
              "\n",
              "    .colab-df-buttons div {\n",
              "      margin-bottom: 4px;\n",
              "    }\n",
              "\n",
              "    [theme=dark] .colab-df-convert {\n",
              "      background-color: #3B4455;\n",
              "      fill: #D2E3FC;\n",
              "    }\n",
              "\n",
              "    [theme=dark] .colab-df-convert:hover {\n",
              "      background-color: #434B5C;\n",
              "      box-shadow: 0px 1px 3px 1px rgba(0, 0, 0, 0.15);\n",
              "      filter: drop-shadow(0px 1px 2px rgba(0, 0, 0, 0.3));\n",
              "      fill: #FFFFFF;\n",
              "    }\n",
              "  </style>\n",
              "\n",
              "    <script>\n",
              "      const buttonEl =\n",
              "        document.querySelector('#df-8f4731ad-e58a-4590-b5f6-9d79dfaf3c47 button.colab-df-convert');\n",
              "      buttonEl.style.display =\n",
              "        google.colab.kernel.accessAllowed ? 'block' : 'none';\n",
              "\n",
              "      async function convertToInteractive(key) {\n",
              "        const element = document.querySelector('#df-8f4731ad-e58a-4590-b5f6-9d79dfaf3c47');\n",
              "        const dataTable =\n",
              "          await google.colab.kernel.invokeFunction('convertToInteractive',\n",
              "                                                    [key], {});\n",
              "        if (!dataTable) return;\n",
              "\n",
              "        const docLinkHtml = 'Like what you see? Visit the ' +\n",
              "          '<a target=\"_blank\" href=https://colab.research.google.com/notebooks/data_table.ipynb>data table notebook</a>'\n",
              "          + ' to learn more about interactive tables.';\n",
              "        element.innerHTML = '';\n",
              "        dataTable['output_type'] = 'display_data';\n",
              "        await google.colab.output.renderOutput(dataTable, element);\n",
              "        const docLink = document.createElement('div');\n",
              "        docLink.innerHTML = docLinkHtml;\n",
              "        element.appendChild(docLink);\n",
              "      }\n",
              "    </script>\n",
              "  </div>\n",
              "\n",
              "\n",
              "    </div>\n",
              "  </div>\n"
            ],
            "application/vnd.google.colaboratory.intrinsic+json": {
              "type": "dataframe",
              "summary": "{\n  \"name\": \"dfm[(dfm[\\\"cc_type\\\"] == \\\"Visa\\\") & (dfm[\\\"price(CAD)\\\"] == 100)][[\\\"prefix\\\", \\\"Name\\\", \\\"cc_type\\\", \\\"price(CAD)\\\"]]\",\n  \"rows\": 1,\n  \"fields\": [\n    {\n      \"column\": \"prefix\",\n      \"properties\": {\n        \"dtype\": \"string\",\n        \"num_unique_values\": 1,\n        \"samples\": [\n          \"Mrs.\"\n        ],\n        \"semantic_type\": \"\",\n        \"description\": \"\"\n      }\n    },\n    {\n      \"column\": \"Name\",\n      \"properties\": {\n        \"dtype\": \"string\",\n        \"num_unique_values\": 1,\n        \"samples\": [\n          \"Gregory Brown\"\n        ],\n        \"semantic_type\": \"\",\n        \"description\": \"\"\n      }\n    },\n    {\n      \"column\": \"cc_type\",\n      \"properties\": {\n        \"dtype\": \"string\",\n        \"num_unique_values\": 1,\n        \"samples\": [\n          \"Visa\"\n        ],\n        \"semantic_type\": \"\",\n        \"description\": \"\"\n      }\n    },\n    {\n      \"column\": \"price(CAD)\",\n      \"properties\": {\n        \"dtype\": \"number\",\n        \"std\": null,\n        \"min\": 100.0,\n        \"max\": 100.0,\n        \"num_unique_values\": 1,\n        \"samples\": [\n          100.0\n        ],\n        \"semantic_type\": \"\",\n        \"description\": \"\"\n      }\n    }\n  ]\n}"
            }
          },
          "metadata": {},
          "execution_count": 85
        }
      ],
      "source": [
        "# (Assuming question is referring to only Visa and not Visa Electron)\n",
        "dfm[(dfm[\"cc_type\"] == \"Visa\") & (dfm[\"price(CAD)\"] == 100)][[\"prefix\", \"Name\", \"cc_type\", \"price(CAD)\"]]"
      ]
    },
    {
      "cell_type": "code",
      "execution_count": null,
      "metadata": {
        "id": "HMPrrc1g4fk7",
        "outputId": "0af9f6dc-d3ae-4b6d-976e-8eb2476a7ea0",
        "collapsed": true
      },
      "outputs": [
        {
          "data": {
            "text/html": [
              "<div>\n",
              "<style>\n",
              "    .dataframe thead tr:only-child th {\n",
              "        text-align: right;\n",
              "    }\n",
              "\n",
              "    .dataframe thead th {\n",
              "        text-align: left;\n",
              "    }\n",
              "\n",
              "    .dataframe tbody tr th {\n",
              "        vertical-align: top;\n",
              "    }\n",
              "</style>\n",
              "<table border=\"1\" class=\"dataframe\">\n",
              "  <thead>\n",
              "    <tr style=\"text-align: right;\">\n",
              "      <th></th>\n",
              "      <th>prefix</th>\n",
              "      <th>first</th>\n",
              "      <th>last</th>\n",
              "      <th>email</th>\n",
              "      <th>gender</th>\n",
              "      <th>age</th>\n",
              "      <th>company</th>\n",
              "      <th>profession</th>\n",
              "      <th>phone</th>\n",
              "      <th>postal</th>\n",
              "      <th>province</th>\n",
              "      <th>cc_no</th>\n",
              "      <th>cc_exp</th>\n",
              "      <th>cc_type</th>\n",
              "      <th>price(CAD)</th>\n",
              "      <th>fav_color</th>\n",
              "      <th>ip</th>\n",
              "      <th>weekday</th>\n",
              "      <th>ampm</th>\n",
              "      <th>date</th>\n",
              "    </tr>\n",
              "  </thead>\n",
              "  <tbody>\n",
              "    <tr>\n",
              "      <th>76</th>\n",
              "      <td>Mrs.</td>\n",
              "      <td>Gregory</td>\n",
              "      <td>Brown</td>\n",
              "      <td>hav@jek.gs</td>\n",
              "      <td>Female</td>\n",
              "      <td>31</td>\n",
              "      <td>E*Trade Group, Inc.</td>\n",
              "      <td>Novelist</td>\n",
              "      <td>(625) 537-8923</td>\n",
              "      <td>X3S 4Q2</td>\n",
              "      <td>PE</td>\n",
              "      <td>6010000000000000</td>\n",
              "      <td>04/2018</td>\n",
              "      <td>Visa</td>\n",
              "      <td>100.0</td>\n",
              "      <td>Green</td>\n",
              "      <td>212.100.18.95</td>\n",
              "      <td>Monday</td>\n",
              "      <td>am</td>\n",
              "      <td>10/23/2063</td>\n",
              "    </tr>\n",
              "  </tbody>\n",
              "</table>\n",
              "</div>"
            ],
            "text/plain": [
              "   prefix    first   last       email  gender  age              company  \\\n",
              "76   Mrs.  Gregory  Brown  hav@jek.gs  Female   31  E*Trade Group, Inc.   \n",
              "\n",
              "   profession           phone   postal province             cc_no   cc_exp  \\\n",
              "76   Novelist  (625) 537-8923  X3S 4Q2       PE  6010000000000000  04/2018   \n",
              "\n",
              "   cc_type  price(CAD) fav_color             ip weekday ampm        date  \n",
              "76    Visa       100.0     Green  212.100.18.95  Monday   am  10/23/2063  "
            ]
          },
          "execution_count": 18,
          "metadata": {},
          "output_type": "execute_result"
        }
      ],
      "source": []
    },
    {
      "cell_type": "markdown",
      "metadata": {
        "id": "fDoA5wHw4fk7"
      },
      "source": [
        "**17. What are two most common professions?**"
      ]
    },
    {
      "cell_type": "code",
      "execution_count": null,
      "metadata": {
        "id": "_gNOBYtr4fk7",
        "colab": {
          "base_uri": "https://localhost:8080/",
          "height": 178
        },
        "outputId": "fff5e63f-3bf9-440e-98a4-054f30923ecf"
      },
      "outputs": [
        {
          "output_type": "execute_result",
          "data": {
            "text/plain": [
              "profession\n",
              "Preschool Teacher       112\n",
              "Distribution Manager    107\n",
              "Name: count, dtype: int64"
            ],
            "text/html": [
              "<div>\n",
              "<style scoped>\n",
              "    .dataframe tbody tr th:only-of-type {\n",
              "        vertical-align: middle;\n",
              "    }\n",
              "\n",
              "    .dataframe tbody tr th {\n",
              "        vertical-align: top;\n",
              "    }\n",
              "\n",
              "    .dataframe thead th {\n",
              "        text-align: right;\n",
              "    }\n",
              "</style>\n",
              "<table border=\"1\" class=\"dataframe\">\n",
              "  <thead>\n",
              "    <tr style=\"text-align: right;\">\n",
              "      <th></th>\n",
              "      <th>count</th>\n",
              "    </tr>\n",
              "    <tr>\n",
              "      <th>profession</th>\n",
              "      <th></th>\n",
              "    </tr>\n",
              "  </thead>\n",
              "  <tbody>\n",
              "    <tr>\n",
              "      <th>Preschool Teacher</th>\n",
              "      <td>112</td>\n",
              "    </tr>\n",
              "    <tr>\n",
              "      <th>Distribution Manager</th>\n",
              "      <td>107</td>\n",
              "    </tr>\n",
              "  </tbody>\n",
              "</table>\n",
              "</div><br><label><b>dtype:</b> int64</label>"
            ]
          },
          "metadata": {},
          "execution_count": 87
        }
      ],
      "source": [
        "dfm[\"profession\"].value_counts().head(2)"
      ]
    },
    {
      "cell_type": "code",
      "execution_count": null,
      "metadata": {
        "id": "950To2Op4fk7",
        "outputId": "59019cb3-2ee0-4dc2-8c22-8ded01154575",
        "collapsed": true
      },
      "outputs": [
        {
          "data": {
            "text/plain": [
              "Preschool Teacher       112\n",
              "Distribution Manager    107\n",
              "Name: profession, dtype: int64"
            ]
          },
          "execution_count": 19,
          "metadata": {},
          "output_type": "execute_result"
        }
      ],
      "source": []
    },
    {
      "cell_type": "markdown",
      "metadata": {
        "collapsed": true,
        "id": "kwf_dELl4fk7"
      },
      "source": [
        "**18. Can you tell the top 5 most popular email providers? (e.g. gmail.com, yahoo.com, etc...)**"
      ]
    },
    {
      "cell_type": "code",
      "execution_count": null,
      "metadata": {
        "id": "n0Q7aoMi4fk7",
        "colab": {
          "base_uri": "https://localhost:8080/"
        },
        "outputId": "991b1503-13df-424f-edf0-0bb3d73151ab"
      },
      "outputs": [
        {
          "output_type": "stream",
          "name": "stdout",
          "text": [
            "Top 5 email providers:\n",
            "email_provider\n",
            "gmail.com      1687\n",
            "me.com         1676\n",
            "outlook.com    1664\n",
            "live.com       1660\n",
            "hotmail.com    1659\n",
            "Name: count, dtype: int64\n"
          ]
        }
      ],
      "source": [
        "# Extracting the domain part after '@' from the email addresses using str.split() function\n",
        "dfm['domain'] = dfm['email'].str.split('@').str[1]\n",
        "\n",
        "# Counting the top 5 most common email providers\n",
        "top_5_providers = dfm['domain'].value_counts().head(5)\n",
        "\n",
        "print(\"Top 5 email providers:\")\n",
        "print(top_5_providers)"
      ]
    },
    {
      "cell_type": "code",
      "execution_count": null,
      "metadata": {
        "id": "sf3KUuYZ4fk7",
        "outputId": "0c9aa5ba-911c-4840-ae85-af00a0bde905",
        "collapsed": true
      },
      "outputs": [
        {
          "data": {
            "text/plain": [
              "gmail.com      1687\n",
              "me.com         1676\n",
              "outlook.com    1664\n",
              "live.com       1660\n",
              "hotmail.com    1659\n",
              "Name: email, dtype: int64"
            ]
          },
          "execution_count": 20,
          "metadata": {},
          "output_type": "execute_result"
        }
      ],
      "source": []
    },
    {
      "cell_type": "markdown",
      "metadata": {
        "collapsed": true,
        "id": "Bhnl6fQl4fk8"
      },
      "source": [
        "**19. Is there any customer who is using email with \"am.edu\"?**<br>\n",
        "Hint: Use `lambda` expression in `apply()`. split the email address at `@`.  "
      ]
    },
    {
      "cell_type": "code",
      "execution_count": null,
      "metadata": {
        "id": "CzaddFIB4fk8",
        "colab": {
          "base_uri": "https://localhost:8080/",
          "height": 170
        },
        "outputId": "c919b5ae-6423-4185-b33d-ddb7d4718830"
      },
      "outputs": [
        {
          "output_type": "execute_result",
          "data": {
            "text/plain": [
              "    prefix    first      last         email  gender  age                  company                profession           phone   postal province             cc_no   cc_exp                             cc_type  price(CAD) fav_color              ip weekday ampm        date              Name email_provider\n",
              "150   Miss  Loretta  Fletcher  barit@am.edu  Female   48  York International Corp  Rehabilitation Counselor  (323) 279-8038  E5X 8L0       QC  6330000000000000  05/2021  Diners Club United States & Canada       97.26     White  147.57.240.225  Monday   am  11/07/2066  Loretta Fletcher         am.edu"
            ],
            "text/html": [
              "\n",
              "  <div id=\"df-ebcc5d84-957a-4caf-ad51-b9d0ecd55075\" class=\"colab-df-container\">\n",
              "    <div>\n",
              "<style scoped>\n",
              "    .dataframe tbody tr th:only-of-type {\n",
              "        vertical-align: middle;\n",
              "    }\n",
              "\n",
              "    .dataframe tbody tr th {\n",
              "        vertical-align: top;\n",
              "    }\n",
              "\n",
              "    .dataframe thead th {\n",
              "        text-align: right;\n",
              "    }\n",
              "</style>\n",
              "<table border=\"1\" class=\"dataframe\">\n",
              "  <thead>\n",
              "    <tr style=\"text-align: right;\">\n",
              "      <th></th>\n",
              "      <th>prefix</th>\n",
              "      <th>first</th>\n",
              "      <th>last</th>\n",
              "      <th>email</th>\n",
              "      <th>gender</th>\n",
              "      <th>age</th>\n",
              "      <th>company</th>\n",
              "      <th>profession</th>\n",
              "      <th>phone</th>\n",
              "      <th>postal</th>\n",
              "      <th>province</th>\n",
              "      <th>cc_no</th>\n",
              "      <th>cc_exp</th>\n",
              "      <th>cc_type</th>\n",
              "      <th>price(CAD)</th>\n",
              "      <th>fav_color</th>\n",
              "      <th>ip</th>\n",
              "      <th>weekday</th>\n",
              "      <th>ampm</th>\n",
              "      <th>date</th>\n",
              "      <th>Name</th>\n",
              "      <th>email_provider</th>\n",
              "    </tr>\n",
              "  </thead>\n",
              "  <tbody>\n",
              "    <tr>\n",
              "      <th>150</th>\n",
              "      <td>Miss</td>\n",
              "      <td>Loretta</td>\n",
              "      <td>Fletcher</td>\n",
              "      <td>barit@am.edu</td>\n",
              "      <td>Female</td>\n",
              "      <td>48</td>\n",
              "      <td>York International Corp</td>\n",
              "      <td>Rehabilitation Counselor</td>\n",
              "      <td>(323) 279-8038</td>\n",
              "      <td>E5X 8L0</td>\n",
              "      <td>QC</td>\n",
              "      <td>6330000000000000</td>\n",
              "      <td>05/2021</td>\n",
              "      <td>Diners Club United States &amp; Canada</td>\n",
              "      <td>97.26</td>\n",
              "      <td>White</td>\n",
              "      <td>147.57.240.225</td>\n",
              "      <td>Monday</td>\n",
              "      <td>am</td>\n",
              "      <td>11/07/2066</td>\n",
              "      <td>Loretta Fletcher</td>\n",
              "      <td>am.edu</td>\n",
              "    </tr>\n",
              "  </tbody>\n",
              "</table>\n",
              "</div>\n",
              "    <div class=\"colab-df-buttons\">\n",
              "\n",
              "  <div class=\"colab-df-container\">\n",
              "    <button class=\"colab-df-convert\" onclick=\"convertToInteractive('df-ebcc5d84-957a-4caf-ad51-b9d0ecd55075')\"\n",
              "            title=\"Convert this dataframe to an interactive table.\"\n",
              "            style=\"display:none;\">\n",
              "\n",
              "  <svg xmlns=\"http://www.w3.org/2000/svg\" height=\"24px\" viewBox=\"0 -960 960 960\">\n",
              "    <path d=\"M120-120v-720h720v720H120Zm60-500h600v-160H180v160Zm220 220h160v-160H400v160Zm0 220h160v-160H400v160ZM180-400h160v-160H180v160Zm440 0h160v-160H620v160ZM180-180h160v-160H180v160Zm440 0h160v-160H620v160Z\"/>\n",
              "  </svg>\n",
              "    </button>\n",
              "\n",
              "  <style>\n",
              "    .colab-df-container {\n",
              "      display:flex;\n",
              "      gap: 12px;\n",
              "    }\n",
              "\n",
              "    .colab-df-convert {\n",
              "      background-color: #E8F0FE;\n",
              "      border: none;\n",
              "      border-radius: 50%;\n",
              "      cursor: pointer;\n",
              "      display: none;\n",
              "      fill: #1967D2;\n",
              "      height: 32px;\n",
              "      padding: 0 0 0 0;\n",
              "      width: 32px;\n",
              "    }\n",
              "\n",
              "    .colab-df-convert:hover {\n",
              "      background-color: #E2EBFA;\n",
              "      box-shadow: 0px 1px 2px rgba(60, 64, 67, 0.3), 0px 1px 3px 1px rgba(60, 64, 67, 0.15);\n",
              "      fill: #174EA6;\n",
              "    }\n",
              "\n",
              "    .colab-df-buttons div {\n",
              "      margin-bottom: 4px;\n",
              "    }\n",
              "\n",
              "    [theme=dark] .colab-df-convert {\n",
              "      background-color: #3B4455;\n",
              "      fill: #D2E3FC;\n",
              "    }\n",
              "\n",
              "    [theme=dark] .colab-df-convert:hover {\n",
              "      background-color: #434B5C;\n",
              "      box-shadow: 0px 1px 3px 1px rgba(0, 0, 0, 0.15);\n",
              "      filter: drop-shadow(0px 1px 2px rgba(0, 0, 0, 0.3));\n",
              "      fill: #FFFFFF;\n",
              "    }\n",
              "  </style>\n",
              "\n",
              "    <script>\n",
              "      const buttonEl =\n",
              "        document.querySelector('#df-ebcc5d84-957a-4caf-ad51-b9d0ecd55075 button.colab-df-convert');\n",
              "      buttonEl.style.display =\n",
              "        google.colab.kernel.accessAllowed ? 'block' : 'none';\n",
              "\n",
              "      async function convertToInteractive(key) {\n",
              "        const element = document.querySelector('#df-ebcc5d84-957a-4caf-ad51-b9d0ecd55075');\n",
              "        const dataTable =\n",
              "          await google.colab.kernel.invokeFunction('convertToInteractive',\n",
              "                                                    [key], {});\n",
              "        if (!dataTable) return;\n",
              "\n",
              "        const docLinkHtml = 'Like what you see? Visit the ' +\n",
              "          '<a target=\"_blank\" href=https://colab.research.google.com/notebooks/data_table.ipynb>data table notebook</a>'\n",
              "          + ' to learn more about interactive tables.';\n",
              "        element.innerHTML = '';\n",
              "        dataTable['output_type'] = 'display_data';\n",
              "        await google.colab.output.renderOutput(dataTable, element);\n",
              "        const docLink = document.createElement('div');\n",
              "        docLink.innerHTML = docLinkHtml;\n",
              "        element.appendChild(docLink);\n",
              "      }\n",
              "    </script>\n",
              "  </div>\n",
              "\n",
              "\n",
              "    </div>\n",
              "  </div>\n"
            ],
            "application/vnd.google.colaboratory.intrinsic+json": {
              "type": "dataframe"
            }
          },
          "metadata": {},
          "execution_count": 89
        }
      ],
      "source": [
        "dfm[dfm[\"email\"].apply(lambda x: x.split('@')[1]) == 'am.edu']"
      ]
    },
    {
      "cell_type": "code",
      "execution_count": null,
      "metadata": {
        "id": "yeY87tjc4fk9",
        "outputId": "180c47de-a284-4e59-a5a5-3475242f963e",
        "collapsed": true
      },
      "outputs": [
        {
          "data": {
            "text/html": [
              "<div>\n",
              "<style>\n",
              "    .dataframe thead tr:only-child th {\n",
              "        text-align: right;\n",
              "    }\n",
              "\n",
              "    .dataframe thead th {\n",
              "        text-align: left;\n",
              "    }\n",
              "\n",
              "    .dataframe tbody tr th {\n",
              "        vertical-align: top;\n",
              "    }\n",
              "</style>\n",
              "<table border=\"1\" class=\"dataframe\">\n",
              "  <thead>\n",
              "    <tr style=\"text-align: right;\">\n",
              "      <th></th>\n",
              "      <th>prefix</th>\n",
              "      <th>first</th>\n",
              "      <th>last</th>\n",
              "      <th>email</th>\n",
              "      <th>gender</th>\n",
              "      <th>age</th>\n",
              "      <th>company</th>\n",
              "      <th>profession</th>\n",
              "      <th>phone</th>\n",
              "      <th>postal</th>\n",
              "      <th>province</th>\n",
              "      <th>cc_no</th>\n",
              "      <th>cc_exp</th>\n",
              "      <th>cc_type</th>\n",
              "      <th>price(CAD)</th>\n",
              "      <th>fav_color</th>\n",
              "      <th>ip</th>\n",
              "      <th>weekday</th>\n",
              "      <th>ampm</th>\n",
              "      <th>date</th>\n",
              "    </tr>\n",
              "  </thead>\n",
              "  <tbody>\n",
              "    <tr>\n",
              "      <th>150</th>\n",
              "      <td>Miss</td>\n",
              "      <td>Loretta</td>\n",
              "      <td>Fletcher</td>\n",
              "      <td>barit@am.edu</td>\n",
              "      <td>Female</td>\n",
              "      <td>48</td>\n",
              "      <td>York International Corp</td>\n",
              "      <td>Rehabilitation Counselor</td>\n",
              "      <td>(323) 279-8038</td>\n",
              "      <td>E5X 8L0</td>\n",
              "      <td>QC</td>\n",
              "      <td>6330000000000000</td>\n",
              "      <td>05/2021</td>\n",
              "      <td>Diners Club United States &amp; Canada</td>\n",
              "      <td>97.26</td>\n",
              "      <td>White</td>\n",
              "      <td>147.57.240.225</td>\n",
              "      <td>Monday</td>\n",
              "      <td>am</td>\n",
              "      <td>11/07/2066</td>\n",
              "    </tr>\n",
              "  </tbody>\n",
              "</table>\n",
              "</div>"
            ],
            "text/plain": [
              "    prefix    first      last         email  gender  age  \\\n",
              "150   Miss  Loretta  Fletcher  barit@am.edu  Female   48   \n",
              "\n",
              "                     company                profession           phone  \\\n",
              "150  York International Corp  Rehabilitation Counselor  (323) 279-8038   \n",
              "\n",
              "      postal province             cc_no   cc_exp  \\\n",
              "150  E5X 8L0       QC  6330000000000000  05/2021   \n",
              "\n",
              "                                cc_type  price(CAD) fav_color              ip  \\\n",
              "150  Diners Club United States & Canada       97.26     White  147.57.240.225   \n",
              "\n",
              "    weekday ampm        date  \n",
              "150  Monday   am  11/07/2066  "
            ]
          },
          "execution_count": 21,
          "metadata": {},
          "output_type": "execute_result"
        }
      ],
      "source": []
    },
    {
      "cell_type": "markdown",
      "metadata": {
        "collapsed": true,
        "id": "RdUXtTzB4fk9"
      },
      "source": [
        "**20. Which day of the week, the store gets more customers?**"
      ]
    },
    {
      "cell_type": "code",
      "execution_count": 10,
      "metadata": {
        "id": "CNMp2jHu4fk9",
        "colab": {
          "base_uri": "https://localhost:8080/",
          "height": 147
        },
        "outputId": "3183bdad-6409-4734-b134-72a8b97c41fc"
      },
      "outputs": [
        {
          "output_type": "execute_result",
          "data": {
            "text/plain": [
              "weekday\n",
              "Saturday    4376\n",
              "Name: count, dtype: int64"
            ],
            "text/html": [
              "<div>\n",
              "<style scoped>\n",
              "    .dataframe tbody tr th:only-of-type {\n",
              "        vertical-align: middle;\n",
              "    }\n",
              "\n",
              "    .dataframe tbody tr th {\n",
              "        vertical-align: top;\n",
              "    }\n",
              "\n",
              "    .dataframe thead th {\n",
              "        text-align: right;\n",
              "    }\n",
              "</style>\n",
              "<table border=\"1\" class=\"dataframe\">\n",
              "  <thead>\n",
              "    <tr style=\"text-align: right;\">\n",
              "      <th></th>\n",
              "      <th>count</th>\n",
              "    </tr>\n",
              "    <tr>\n",
              "      <th>weekday</th>\n",
              "      <th></th>\n",
              "    </tr>\n",
              "  </thead>\n",
              "  <tbody>\n",
              "    <tr>\n",
              "      <th>Saturday</th>\n",
              "      <td>4376</td>\n",
              "    </tr>\n",
              "  </tbody>\n",
              "</table>\n",
              "</div><br><label><b>dtype:</b> int64</label>"
            ]
          },
          "metadata": {},
          "execution_count": 10
        }
      ],
      "source": [
        "dfm[\"weekday\"].value_counts().head(1)"
      ]
    },
    {
      "cell_type": "code",
      "execution_count": null,
      "metadata": {
        "id": "YRkoK8A34fk-",
        "outputId": "a572f809-e9b1-48ce-c47b-599cae858156",
        "collapsed": true
      },
      "outputs": [
        {
          "data": {
            "text/plain": [
              "Saturday     4376\n",
              "Wednesday    4365\n",
              "Thursday     4327\n",
              "Friday       4316\n",
              "Monday       4216\n",
              "Name: weekday, dtype: int64"
            ]
          },
          "execution_count": 22,
          "metadata": {},
          "output_type": "execute_result"
        }
      ],
      "source": []
    },
    {
      "cell_type": "markdown",
      "metadata": {
        "id": "EXxHw64z4fk-"
      },
      "source": [
        "# Excellent work!"
      ]
    }
  ],
  "metadata": {
    "kernelspec": {
      "display_name": "Python 3 (ipykernel)",
      "language": "python",
      "name": "python3"
    },
    "language_info": {
      "codemirror_mode": {
        "name": "ipython",
        "version": 3
      },
      "file_extension": ".py",
      "mimetype": "text/x-python",
      "name": "python",
      "nbconvert_exporter": "python",
      "pygments_lexer": "ipython3",
      "version": "3.11.5"
    },
    "colab": {
      "provenance": []
    }
  },
  "nbformat": 4,
  "nbformat_minor": 0
}